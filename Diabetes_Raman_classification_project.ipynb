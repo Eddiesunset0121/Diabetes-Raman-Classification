{
  "nbformat": 4,
  "nbformat_minor": 0,
  "metadata": {
    "colab": {
      "provenance": [],
      "gpuType": "T4"
    },
    "kernelspec": {
      "name": "python3",
      "display_name": "Python 3"
    },
    "language_info": {
      "name": "python"
    },
    "accelerator": "GPU"
  },
  "cells": [
    {
      "cell_type": "markdown",
      "source": [
        "# Machine Learning with Raman spectrocopy - Binary Classification with Neuron Networks\n",
        "\n",
        "Inspired by this paper (Paper of reference: https://opg.optica.org/boe/fulltext.cfm?uri=boe-9-10-4998&id=398623), the goal of this project is to analyze the Raman information acquired with portable Raman spectrometer for in-vitro and rapid identification of pateints having Type 2 diabetes mellitus (DM2). Data being analyzed are also public available form the publisher's website"
      ],
      "metadata": {
        "id": "03GD3Wfbv4S_"
      }
    },
    {
      "cell_type": "markdown",
      "source": [
        "## Project Introduction\n",
        "\n",
        "The project develops a **neural network** to classify patients as diabetic or non-diabetic based on **Raman spectroscopy** data. After preprocessing the spectra with area normalization and standardization, a model incorporating dropout layers achieved a **validation accuracy of 93.5%**."
      ],
      "metadata": {
        "id": "ce66enac0E9G"
      }
    },
    {
      "cell_type": "code",
      "source": [
        "# Get predefined helper functions\n",
        "!wget https://raw.githubusercontent.com/Eddiesunset0121/Diabetes-Raman-Classification/refs/heads/main/helper_function.py"
      ],
      "metadata": {
        "colab": {
          "base_uri": "https://localhost:8080/"
        },
        "id": "QQqlkPQsH6eH",
        "outputId": "28a35b59-6f04-4ce1-d8e2-30b914972827"
      },
      "execution_count": null,
      "outputs": [
        {
          "output_type": "stream",
          "name": "stdout",
          "text": [
            "--2025-08-15 01:47:30--  https://raw.githubusercontent.com/Eddiesunset0121/Diabetes-Raman-Classification/refs/heads/main/helper_function.py\n",
            "Resolving raw.githubusercontent.com (raw.githubusercontent.com)... 185.199.110.133, 185.199.108.133, 185.199.111.133, ...\n",
            "Connecting to raw.githubusercontent.com (raw.githubusercontent.com)|185.199.110.133|:443... connected.\n",
            "HTTP request sent, awaiting response... 200 OK\n",
            "Length: 9738 (9.5K) [text/plain]\n",
            "Saving to: ‘helper_function.py’\n",
            "\n",
            "\rhelper_function.py    0%[                    ]       0  --.-KB/s               \rhelper_function.py  100%[===================>]   9.51K  --.-KB/s    in 0s      \n",
            "\n",
            "2025-08-15 01:47:30 (108 MB/s) - ‘helper_function.py’ saved [9738/9738]\n",
            "\n"
          ]
        }
      ]
    },
    {
      "cell_type": "code",
      "source": [
        "import tensorflow as tf\n",
        "import pandas as pd\n",
        "import tensorflow as tf\n",
        "import numpy as np\n",
        "import matplotlib.pyplot as plt\n",
        "from sklearn.model_selection import train_test_split\n",
        "from sklearn.preprocessing import StandardScaler\n",
        "from helper_function import plot_loss_curves, make_confusion_matrix\n",
        "from sklearn.metrics import classification_report\n",
        "from sklearn.linear_model import LogisticRegression\n",
        "from sklearn.metrics import accuracy_score"
      ],
      "metadata": {
        "id": "o-C-iFb94F9o"
      },
      "execution_count": null,
      "outputs": []
    },
    {
      "cell_type": "markdown",
      "source": [
        "## Data preprocessing / EDA"
      ],
      "metadata": {
        "id": "vuOUsAEmASQf"
      }
    },
    {
      "cell_type": "code",
      "source": [
        "# Loading dataset\n",
        "data = pd.read_csv(\"Raman_dataset_800_1800.csv\")\n",
        "data.head()"
      ],
      "metadata": {
        "colab": {
          "base_uri": "https://localhost:8080/",
          "height": 256
        },
        "id": "qC00HgHjdeg1",
        "outputId": "f5ef1721-0d39-4fb6-ccd0-22e7fe27f623"
      },
      "execution_count": null,
      "outputs": [
        {
          "output_type": "execute_result",
          "data": {
            "text/plain": [
              "   DBM  position  ramanshift_800  ramanshift_801  ramanshift_802  \\\n",
              "0    1  earlobes          191.19          195.94          197.02   \n",
              "1    1  earlobes          175.02          183.28          189.84   \n",
              "2    1  earlobes          120.81          122.16          124.74   \n",
              "3    1  earlobes          307.79          313.47          317.82   \n",
              "4    1  earlobes           67.17           64.48           64.90   \n",
              "\n",
              "   ramanshift_803  ramanshift_804  ramanshift_805  ramanshift_806  \\\n",
              "0          194.77          192.74          191.22          190.19   \n",
              "1          194.87          195.26          184.74          175.34   \n",
              "2          128.42          129.15          122.95          117.39   \n",
              "3          320.96          321.38          315.39          310.07   \n",
              "4           68.13           69.57           66.78           64.21   \n",
              "\n",
              "   ramanshift_807  ...  ramanshift_1791  ramanshift_1792  ramanshift_1793  \\\n",
              "0          195.59  ...            49.93            47.62            48.35   \n",
              "1          180.02  ...            52.18            49.23            45.81   \n",
              "2          120.00  ...            39.35            34.85            30.10   \n",
              "3          313.29  ...            66.37            67.09            68.10   \n",
              "4           64.30  ...            19.98            17.90            19.12   \n",
              "\n",
              "   ramanshift_1794  ramanshift_1795  ramanshift_1796  ramanshift_1797  \\\n",
              "0            51.60            53.38            51.30            50.60   \n",
              "1            48.12            51.24            55.39            55.35   \n",
              "2            29.00            29.13            31.57            35.55   \n",
              "3            66.16            65.64            68.90            68.86   \n",
              "4            19.31            19.87            21.46            21.27   \n",
              "\n",
              "   ramanshift_1798  ramanshift_1799  ramanshift_1800  \n",
              "0            50.60            50.73            50.42  \n",
              "1            53.16            51.45            51.40  \n",
              "2            40.04            33.69            30.23  \n",
              "3            67.17            67.48            68.14  \n",
              "4            20.16            18.32            18.53  \n",
              "\n",
              "[5 rows x 1003 columns]"
            ],
            "text/html": [
              "\n",
              "  <div id=\"df-828bda94-9481-490e-8296-ddd1d69028b3\" class=\"colab-df-container\">\n",
              "    <div>\n",
              "<style scoped>\n",
              "    .dataframe tbody tr th:only-of-type {\n",
              "        vertical-align: middle;\n",
              "    }\n",
              "\n",
              "    .dataframe tbody tr th {\n",
              "        vertical-align: top;\n",
              "    }\n",
              "\n",
              "    .dataframe thead th {\n",
              "        text-align: right;\n",
              "    }\n",
              "</style>\n",
              "<table border=\"1\" class=\"dataframe\">\n",
              "  <thead>\n",
              "    <tr style=\"text-align: right;\">\n",
              "      <th></th>\n",
              "      <th>DBM</th>\n",
              "      <th>position</th>\n",
              "      <th>ramanshift_800</th>\n",
              "      <th>ramanshift_801</th>\n",
              "      <th>ramanshift_802</th>\n",
              "      <th>ramanshift_803</th>\n",
              "      <th>ramanshift_804</th>\n",
              "      <th>ramanshift_805</th>\n",
              "      <th>ramanshift_806</th>\n",
              "      <th>ramanshift_807</th>\n",
              "      <th>...</th>\n",
              "      <th>ramanshift_1791</th>\n",
              "      <th>ramanshift_1792</th>\n",
              "      <th>ramanshift_1793</th>\n",
              "      <th>ramanshift_1794</th>\n",
              "      <th>ramanshift_1795</th>\n",
              "      <th>ramanshift_1796</th>\n",
              "      <th>ramanshift_1797</th>\n",
              "      <th>ramanshift_1798</th>\n",
              "      <th>ramanshift_1799</th>\n",
              "      <th>ramanshift_1800</th>\n",
              "    </tr>\n",
              "  </thead>\n",
              "  <tbody>\n",
              "    <tr>\n",
              "      <th>0</th>\n",
              "      <td>1</td>\n",
              "      <td>earlobes</td>\n",
              "      <td>191.19</td>\n",
              "      <td>195.94</td>\n",
              "      <td>197.02</td>\n",
              "      <td>194.77</td>\n",
              "      <td>192.74</td>\n",
              "      <td>191.22</td>\n",
              "      <td>190.19</td>\n",
              "      <td>195.59</td>\n",
              "      <td>...</td>\n",
              "      <td>49.93</td>\n",
              "      <td>47.62</td>\n",
              "      <td>48.35</td>\n",
              "      <td>51.60</td>\n",
              "      <td>53.38</td>\n",
              "      <td>51.30</td>\n",
              "      <td>50.60</td>\n",
              "      <td>50.60</td>\n",
              "      <td>50.73</td>\n",
              "      <td>50.42</td>\n",
              "    </tr>\n",
              "    <tr>\n",
              "      <th>1</th>\n",
              "      <td>1</td>\n",
              "      <td>earlobes</td>\n",
              "      <td>175.02</td>\n",
              "      <td>183.28</td>\n",
              "      <td>189.84</td>\n",
              "      <td>194.87</td>\n",
              "      <td>195.26</td>\n",
              "      <td>184.74</td>\n",
              "      <td>175.34</td>\n",
              "      <td>180.02</td>\n",
              "      <td>...</td>\n",
              "      <td>52.18</td>\n",
              "      <td>49.23</td>\n",
              "      <td>45.81</td>\n",
              "      <td>48.12</td>\n",
              "      <td>51.24</td>\n",
              "      <td>55.39</td>\n",
              "      <td>55.35</td>\n",
              "      <td>53.16</td>\n",
              "      <td>51.45</td>\n",
              "      <td>51.40</td>\n",
              "    </tr>\n",
              "    <tr>\n",
              "      <th>2</th>\n",
              "      <td>1</td>\n",
              "      <td>earlobes</td>\n",
              "      <td>120.81</td>\n",
              "      <td>122.16</td>\n",
              "      <td>124.74</td>\n",
              "      <td>128.42</td>\n",
              "      <td>129.15</td>\n",
              "      <td>122.95</td>\n",
              "      <td>117.39</td>\n",
              "      <td>120.00</td>\n",
              "      <td>...</td>\n",
              "      <td>39.35</td>\n",
              "      <td>34.85</td>\n",
              "      <td>30.10</td>\n",
              "      <td>29.00</td>\n",
              "      <td>29.13</td>\n",
              "      <td>31.57</td>\n",
              "      <td>35.55</td>\n",
              "      <td>40.04</td>\n",
              "      <td>33.69</td>\n",
              "      <td>30.23</td>\n",
              "    </tr>\n",
              "    <tr>\n",
              "      <th>3</th>\n",
              "      <td>1</td>\n",
              "      <td>earlobes</td>\n",
              "      <td>307.79</td>\n",
              "      <td>313.47</td>\n",
              "      <td>317.82</td>\n",
              "      <td>320.96</td>\n",
              "      <td>321.38</td>\n",
              "      <td>315.39</td>\n",
              "      <td>310.07</td>\n",
              "      <td>313.29</td>\n",
              "      <td>...</td>\n",
              "      <td>66.37</td>\n",
              "      <td>67.09</td>\n",
              "      <td>68.10</td>\n",
              "      <td>66.16</td>\n",
              "      <td>65.64</td>\n",
              "      <td>68.90</td>\n",
              "      <td>68.86</td>\n",
              "      <td>67.17</td>\n",
              "      <td>67.48</td>\n",
              "      <td>68.14</td>\n",
              "    </tr>\n",
              "    <tr>\n",
              "      <th>4</th>\n",
              "      <td>1</td>\n",
              "      <td>earlobes</td>\n",
              "      <td>67.17</td>\n",
              "      <td>64.48</td>\n",
              "      <td>64.90</td>\n",
              "      <td>68.13</td>\n",
              "      <td>69.57</td>\n",
              "      <td>66.78</td>\n",
              "      <td>64.21</td>\n",
              "      <td>64.30</td>\n",
              "      <td>...</td>\n",
              "      <td>19.98</td>\n",
              "      <td>17.90</td>\n",
              "      <td>19.12</td>\n",
              "      <td>19.31</td>\n",
              "      <td>19.87</td>\n",
              "      <td>21.46</td>\n",
              "      <td>21.27</td>\n",
              "      <td>20.16</td>\n",
              "      <td>18.32</td>\n",
              "      <td>18.53</td>\n",
              "    </tr>\n",
              "  </tbody>\n",
              "</table>\n",
              "<p>5 rows × 1003 columns</p>\n",
              "</div>\n",
              "    <div class=\"colab-df-buttons\">\n",
              "\n",
              "  <div class=\"colab-df-container\">\n",
              "    <button class=\"colab-df-convert\" onclick=\"convertToInteractive('df-828bda94-9481-490e-8296-ddd1d69028b3')\"\n",
              "            title=\"Convert this dataframe to an interactive table.\"\n",
              "            style=\"display:none;\">\n",
              "\n",
              "  <svg xmlns=\"http://www.w3.org/2000/svg\" height=\"24px\" viewBox=\"0 -960 960 960\">\n",
              "    <path d=\"M120-120v-720h720v720H120Zm60-500h600v-160H180v160Zm220 220h160v-160H400v160Zm0 220h160v-160H400v160ZM180-400h160v-160H180v160Zm440 0h160v-160H620v160ZM180-180h160v-160H180v160Zm440 0h160v-160H620v160Z\"/>\n",
              "  </svg>\n",
              "    </button>\n",
              "\n",
              "  <style>\n",
              "    .colab-df-container {\n",
              "      display:flex;\n",
              "      gap: 12px;\n",
              "    }\n",
              "\n",
              "    .colab-df-convert {\n",
              "      background-color: #E8F0FE;\n",
              "      border: none;\n",
              "      border-radius: 50%;\n",
              "      cursor: pointer;\n",
              "      display: none;\n",
              "      fill: #1967D2;\n",
              "      height: 32px;\n",
              "      padding: 0 0 0 0;\n",
              "      width: 32px;\n",
              "    }\n",
              "\n",
              "    .colab-df-convert:hover {\n",
              "      background-color: #E2EBFA;\n",
              "      box-shadow: 0px 1px 2px rgba(60, 64, 67, 0.3), 0px 1px 3px 1px rgba(60, 64, 67, 0.15);\n",
              "      fill: #174EA6;\n",
              "    }\n",
              "\n",
              "    .colab-df-buttons div {\n",
              "      margin-bottom: 4px;\n",
              "    }\n",
              "\n",
              "    [theme=dark] .colab-df-convert {\n",
              "      background-color: #3B4455;\n",
              "      fill: #D2E3FC;\n",
              "    }\n",
              "\n",
              "    [theme=dark] .colab-df-convert:hover {\n",
              "      background-color: #434B5C;\n",
              "      box-shadow: 0px 1px 3px 1px rgba(0, 0, 0, 0.15);\n",
              "      filter: drop-shadow(0px 1px 2px rgba(0, 0, 0, 0.3));\n",
              "      fill: #FFFFFF;\n",
              "    }\n",
              "  </style>\n",
              "\n",
              "    <script>\n",
              "      const buttonEl =\n",
              "        document.querySelector('#df-828bda94-9481-490e-8296-ddd1d69028b3 button.colab-df-convert');\n",
              "      buttonEl.style.display =\n",
              "        google.colab.kernel.accessAllowed ? 'block' : 'none';\n",
              "\n",
              "      async function convertToInteractive(key) {\n",
              "        const element = document.querySelector('#df-828bda94-9481-490e-8296-ddd1d69028b3');\n",
              "        const dataTable =\n",
              "          await google.colab.kernel.invokeFunction('convertToInteractive',\n",
              "                                                    [key], {});\n",
              "        if (!dataTable) return;\n",
              "\n",
              "        const docLinkHtml = 'Like what you see? Visit the ' +\n",
              "          '<a target=\"_blank\" href=https://colab.research.google.com/notebooks/data_table.ipynb>data table notebook</a>'\n",
              "          + ' to learn more about interactive tables.';\n",
              "        element.innerHTML = '';\n",
              "        dataTable['output_type'] = 'display_data';\n",
              "        await google.colab.output.renderOutput(dataTable, element);\n",
              "        const docLink = document.createElement('div');\n",
              "        docLink.innerHTML = docLinkHtml;\n",
              "        element.appendChild(docLink);\n",
              "      }\n",
              "    </script>\n",
              "  </div>\n",
              "\n",
              "\n",
              "    <div id=\"df-54e9b8c6-162a-4c8a-aeee-e399eaad56c1\">\n",
              "      <button class=\"colab-df-quickchart\" onclick=\"quickchart('df-54e9b8c6-162a-4c8a-aeee-e399eaad56c1')\"\n",
              "                title=\"Suggest charts\"\n",
              "                style=\"display:none;\">\n",
              "\n",
              "<svg xmlns=\"http://www.w3.org/2000/svg\" height=\"24px\"viewBox=\"0 0 24 24\"\n",
              "     width=\"24px\">\n",
              "    <g>\n",
              "        <path d=\"M19 3H5c-1.1 0-2 .9-2 2v14c0 1.1.9 2 2 2h14c1.1 0 2-.9 2-2V5c0-1.1-.9-2-2-2zM9 17H7v-7h2v7zm4 0h-2V7h2v10zm4 0h-2v-4h2v4z\"/>\n",
              "    </g>\n",
              "</svg>\n",
              "      </button>\n",
              "\n",
              "<style>\n",
              "  .colab-df-quickchart {\n",
              "      --bg-color: #E8F0FE;\n",
              "      --fill-color: #1967D2;\n",
              "      --hover-bg-color: #E2EBFA;\n",
              "      --hover-fill-color: #174EA6;\n",
              "      --disabled-fill-color: #AAA;\n",
              "      --disabled-bg-color: #DDD;\n",
              "  }\n",
              "\n",
              "  [theme=dark] .colab-df-quickchart {\n",
              "      --bg-color: #3B4455;\n",
              "      --fill-color: #D2E3FC;\n",
              "      --hover-bg-color: #434B5C;\n",
              "      --hover-fill-color: #FFFFFF;\n",
              "      --disabled-bg-color: #3B4455;\n",
              "      --disabled-fill-color: #666;\n",
              "  }\n",
              "\n",
              "  .colab-df-quickchart {\n",
              "    background-color: var(--bg-color);\n",
              "    border: none;\n",
              "    border-radius: 50%;\n",
              "    cursor: pointer;\n",
              "    display: none;\n",
              "    fill: var(--fill-color);\n",
              "    height: 32px;\n",
              "    padding: 0;\n",
              "    width: 32px;\n",
              "  }\n",
              "\n",
              "  .colab-df-quickchart:hover {\n",
              "    background-color: var(--hover-bg-color);\n",
              "    box-shadow: 0 1px 2px rgba(60, 64, 67, 0.3), 0 1px 3px 1px rgba(60, 64, 67, 0.15);\n",
              "    fill: var(--button-hover-fill-color);\n",
              "  }\n",
              "\n",
              "  .colab-df-quickchart-complete:disabled,\n",
              "  .colab-df-quickchart-complete:disabled:hover {\n",
              "    background-color: var(--disabled-bg-color);\n",
              "    fill: var(--disabled-fill-color);\n",
              "    box-shadow: none;\n",
              "  }\n",
              "\n",
              "  .colab-df-spinner {\n",
              "    border: 2px solid var(--fill-color);\n",
              "    border-color: transparent;\n",
              "    border-bottom-color: var(--fill-color);\n",
              "    animation:\n",
              "      spin 1s steps(1) infinite;\n",
              "  }\n",
              "\n",
              "  @keyframes spin {\n",
              "    0% {\n",
              "      border-color: transparent;\n",
              "      border-bottom-color: var(--fill-color);\n",
              "      border-left-color: var(--fill-color);\n",
              "    }\n",
              "    20% {\n",
              "      border-color: transparent;\n",
              "      border-left-color: var(--fill-color);\n",
              "      border-top-color: var(--fill-color);\n",
              "    }\n",
              "    30% {\n",
              "      border-color: transparent;\n",
              "      border-left-color: var(--fill-color);\n",
              "      border-top-color: var(--fill-color);\n",
              "      border-right-color: var(--fill-color);\n",
              "    }\n",
              "    40% {\n",
              "      border-color: transparent;\n",
              "      border-right-color: var(--fill-color);\n",
              "      border-top-color: var(--fill-color);\n",
              "    }\n",
              "    60% {\n",
              "      border-color: transparent;\n",
              "      border-right-color: var(--fill-color);\n",
              "    }\n",
              "    80% {\n",
              "      border-color: transparent;\n",
              "      border-right-color: var(--fill-color);\n",
              "      border-bottom-color: var(--fill-color);\n",
              "    }\n",
              "    90% {\n",
              "      border-color: transparent;\n",
              "      border-bottom-color: var(--fill-color);\n",
              "    }\n",
              "  }\n",
              "</style>\n",
              "\n",
              "      <script>\n",
              "        async function quickchart(key) {\n",
              "          const quickchartButtonEl =\n",
              "            document.querySelector('#' + key + ' button');\n",
              "          quickchartButtonEl.disabled = true;  // To prevent multiple clicks.\n",
              "          quickchartButtonEl.classList.add('colab-df-spinner');\n",
              "          try {\n",
              "            const charts = await google.colab.kernel.invokeFunction(\n",
              "                'suggestCharts', [key], {});\n",
              "          } catch (error) {\n",
              "            console.error('Error during call to suggestCharts:', error);\n",
              "          }\n",
              "          quickchartButtonEl.classList.remove('colab-df-spinner');\n",
              "          quickchartButtonEl.classList.add('colab-df-quickchart-complete');\n",
              "        }\n",
              "        (() => {\n",
              "          let quickchartButtonEl =\n",
              "            document.querySelector('#df-54e9b8c6-162a-4c8a-aeee-e399eaad56c1 button');\n",
              "          quickchartButtonEl.style.display =\n",
              "            google.colab.kernel.accessAllowed ? 'block' : 'none';\n",
              "        })();\n",
              "      </script>\n",
              "    </div>\n",
              "\n",
              "    </div>\n",
              "  </div>\n"
            ],
            "application/vnd.google.colaboratory.intrinsic+json": {
              "type": "dataframe",
              "variable_name": "data"
            }
          },
          "metadata": {},
          "execution_count": 3
        }
      ]
    },
    {
      "cell_type": "code",
      "source": [
        "print(data['DBM'].value_counts())\n",
        "data['DBM'].value_counts().plot(kind='bar', title='Class Distribution')\n",
        "plt.show()"
      ],
      "metadata": {
        "colab": {
          "base_uri": "https://localhost:8080/",
          "height": 536
        },
        "id": "onz0mYNCxPlW",
        "outputId": "c4ee3ebb-f8ff-4fdb-d848-cd2beca0410c"
      },
      "execution_count": null,
      "outputs": [
        {
          "output_type": "stream",
          "name": "stdout",
          "text": [
            "DBM\n",
            "1    44\n",
            "0    36\n",
            "Name: count, dtype: int64\n"
          ]
        },
        {
          "output_type": "display_data",
          "data": {
            "text/plain": [
              "<Figure size 640x480 with 1 Axes>"
            ],
            "image/png": "[encoded data removed]"
          },
          "metadata": {}
        }
      ]
    },
    {
      "cell_type": "markdown",
      "source": [
        "The class of 1 (with diabetes) and 0 (without diaberes) are not balanced, therefore, it's a good choice to use \"statify=y\" in train_test_split to maintain ratio of two classes in both training and test datasets"
      ],
      "metadata": {
        "id": "8toZ8dvfF_yW"
      }
    },
    {
      "cell_type": "markdown",
      "source": [
        "DBM column:\n",
        "* 0: without diabetes\n",
        "* 1: with diabetes\n",
        "\n",
        "position: the body part where Raman spectrum is measured\n",
        "\n",
        "ramanshift_XX: the wavenumber of Raman signal measured"
      ],
      "metadata": {
        "id": "n1Ydwv6rpKYL"
      }
    },
    {
      "cell_type": "code",
      "source": [
        "# Prepare predictor and labels\n",
        "X = data.drop(columns=[\"DBM\", \"position\"])\n",
        "y = data[\"DBM\"]\n",
        "\n",
        "# Prepare training and testing datasets\n",
        "X_train, X_test, y_train, y_test = train_test_split(X, y, test_size = 0.2, stratify = y, random_state = 42)\n",
        "\n",
        "# Check the length after seperation\n",
        "len(X_train), len(X_test), len(y_train), len(y_test)"
      ],
      "metadata": {
        "colab": {
          "base_uri": "https://localhost:8080/"
        },
        "id": "n2IQtLNEmp2P",
        "outputId": "410c8484-ca67-4889-fabe-37dce618ed2a"
      },
      "execution_count": null,
      "outputs": [
        {
          "output_type": "execute_result",
          "data": {
            "text/plain": [
              "(64, 16, 64, 16)"
            ]
          },
          "metadata": {},
          "execution_count": 5
        }
      ]
    },
    {
      "cell_type": "markdown",
      "source": [
        "The 800-1800 cm⁻¹ range is the biochemical fingerprint region, containing distinct peaks from proteins, lipids, and carbohydrates that are relevant to metabolic changes in diabetes. This focused window is crucial as it maximizes the relevant biological information while avoiding the strong, interfering signal from water found at higher wavenumbers."
      ],
      "metadata": {
        "id": "dyTd6Omwn8rA"
      }
    },
    {
      "cell_type": "code",
      "source": [
        "# Get the Ramanshift column names (they are the features)\n",
        "raman_shifts = X.columns\n",
        "\n",
        "plt.figure(figsize=(14, 6))\n",
        "\n",
        "# Calculate and plot mean spectrum for non-diabetic (DBM=0)\n",
        "plt.plot(raman_shifts, X[y==0].mean(), label='Average Spectrum (Non-Diabetic)')\n",
        "\n",
        "# Calculate and plot mean spectrum for diabetic (DBM=1)\n",
        "plt.plot(raman_shifts, X[y==1].mean(), label='Average Spectrum (Diabetic)')\n",
        "\n",
        "plt.title('Average Raman Spectra by Diabetes Status')\n",
        "plt.xlabel('RamanShift (cm -1)')\n",
        "plt.ylabel('Mean Intensity (Arbitrary Units)')\n",
        "plt.xticks(ticks=raman_shifts[::20], rotation=90)\n",
        "plt.legend()\n",
        "plt.grid(True)\n",
        "plt.show()"
      ],
      "metadata": {
        "colab": {
          "base_uri": "https://localhost:8080/",
          "height": 668
        },
        "id": "M1rmDDrw2EKW",
        "outputId": "61e17487-b123-4e37-813a-a69d8b97d1fc"
      },
      "execution_count": null,
      "outputs": [
        {
          "output_type": "display_data",
          "data": {
            "text/plain": [
              "<Figure size 1400x600 with 1 Axes>"
            ],
            "image/png": "[encoded data removed]"
          },
          "metadata": {}
        }
      ]
    },
    {
      "cell_type": "markdown",
      "source": [
        "After the spetra (diabetic vs, non-diabetic) are averaged, peak differences can be observed around 1350 cm-1 and 1380 cm-1, the difference, thought not substantial, can still be potentially leveraged by machine learning model for classification."
      ],
      "metadata": {
        "id": "xCb6D48yGmIE"
      }
    },
    {
      "cell_type": "code",
      "source": [
        "X_train.values"
      ],
      "metadata": {
        "colab": {
          "base_uri": "https://localhost:8080/"
        },
        "id": "bi22nOz9-tZd",
        "outputId": "1b8095ac-6d2f-4030-fb5d-65bf04823d7e"
      },
      "execution_count": null,
      "outputs": [
        {
          "output_type": "execute_result",
          "data": {
            "text/plain": [
              "array([[ 63.44,  66.67,  67.44, ...,  13.07,  16.13,  17.52],\n",
              "       [178.14, 184.69, 187.04, ...,  59.86,  62.43,  64.1 ],\n",
              "       [174.53, 180.27, 183.99, ...,  59.76,  57.92,  56.75],\n",
              "       ...,\n",
              "       [193.42, 201.41, 204.82, ...,  62.03,  63.25,  64.38],\n",
              "       [422.78, 427.56, 430.97, ..., 159.6 , 156.95, 155.29],\n",
              "       [280.35, 281.81, 283.27, ...,  96.97,  95.75,  95.77]])"
            ]
          },
          "metadata": {},
          "execution_count": 7
        }
      ]
    },
    {
      "cell_type": "code",
      "source": [
        "# Define a function for area normalization\n",
        "def area_norm(data):\n",
        "  area = np.sum(data.values, axis = 1)\n",
        "  return data.divide(area, axis = 0)"
      ],
      "metadata": {
        "id": "spcZ_hNzoU3E"
      },
      "execution_count": null,
      "outputs": []
    },
    {
      "cell_type": "markdown",
      "source": [
        "**Area normalization:** Corrects for sample-to-sample variations\n",
        "\n",
        "\n",
        "Difference in aquisition time of detectors between each measurements will gives slightly different overall peak intensity, therefore correcting peak intensities between experiments using total area under a spectrum for normalization is necessary, other fluctuations include laser intensity and sample concentration...the final area of a spectrum is normalized to 1."
      ],
      "metadata": {
        "id": "Um_pr1GN_wYe"
      }
    },
    {
      "cell_type": "code",
      "source": [
        "# Area normalization to reduce variation between measurements, for example,\n",
        "X_train_area_norm = area_norm(X_train)\n",
        "X_test_area_norm = area_norm(X_test)"
      ],
      "metadata": {
        "id": "-XHk_Z_q-10z"
      },
      "execution_count": null,
      "outputs": []
    },
    {
      "cell_type": "code",
      "source": [
        "X_train_area_norm.head()"
      ],
      "metadata": {
        "colab": {
          "base_uri": "https://localhost:8080/",
          "height": 256
        },
        "id": "1IH53ijSzfSp",
        "outputId": "bec58889-9ffd-4ce6-8b35-089dd94cedc1"
      },
      "execution_count": null,
      "outputs": [
        {
          "output_type": "execute_result",
          "data": {
            "text/plain": [
              "    ramanshift_800  ramanshift_801  ramanshift_802  ramanshift_803  \\\n",
              "47        0.001505        0.001581        0.001600        0.001566   \n",
              "74        0.001489        0.001544        0.001563        0.001551   \n",
              "32        0.001524        0.001575        0.001607        0.001624   \n",
              "12        0.001603        0.001696        0.001763        0.001805   \n",
              "5         0.002058        0.001909        0.001842        0.001851   \n",
              "\n",
              "    ramanshift_804  ramanshift_805  ramanshift_806  ramanshift_807  \\\n",
              "47        0.001535        0.001511        0.001490        0.001501   \n",
              "74        0.001538        0.001521        0.001506        0.001530   \n",
              "32        0.001609        0.001520        0.001440        0.001475   \n",
              "12        0.001791        0.001645        0.001514        0.001588   \n",
              "5         0.001897        0.002034        0.002150        0.001996   \n",
              "\n",
              "    ramanshift_808  ramanshift_809  ...  ramanshift_1791  ramanshift_1792  \\\n",
              "47        0.001512        0.001522  ...         0.000326         0.000355   \n",
              "74        0.001553        0.001526  ...         0.000565         0.000560   \n",
              "32        0.001509        0.001505  ...         0.000524         0.000525   \n",
              "12        0.001661        0.001643  ...         0.000423         0.000412   \n",
              "5         0.001843        0.001897  ...         0.000227         0.000213   \n",
              "\n",
              "    ramanshift_1793  ramanshift_1794  ramanshift_1795  ramanshift_1796  \\\n",
              "47         0.000289         0.000279         0.000278         0.000287   \n",
              "74         0.000557         0.000543         0.000535         0.000540   \n",
              "32         0.000511         0.000528         0.000532         0.000501   \n",
              "12         0.000338         0.000360         0.000368         0.000328   \n",
              "5          0.000230         0.000197         0.000220         0.000383   \n",
              "\n",
              "    ramanshift_1797  ramanshift_1798  ramanshift_1799  ramanshift_1800  \n",
              "47         0.000297         0.000310         0.000383         0.000416  \n",
              "74         0.000525         0.000500         0.000522         0.000536  \n",
              "32         0.000504         0.000522         0.000506         0.000496  \n",
              "12         0.000356         0.000418         0.000397         0.000392  \n",
              "5          0.000377         0.000285         0.000246         0.000230  \n",
              "\n",
              "[5 rows x 1001 columns]"
            ],
            "text/html": [
              "\n",
              "  <div id=\"df-547e7f9d-35b5-47a4-8921-6eeb3549162d\" class=\"colab-df-container\">\n",
              "    <div>\n",
              "<style scoped>\n",
              "    .dataframe tbody tr th:only-of-type {\n",
              "        vertical-align: middle;\n",
              "    }\n",
              "\n",
              "    .dataframe tbody tr th {\n",
              "        vertical-align: top;\n",
              "    }\n",
              "\n",
              "    .dataframe thead th {\n",
              "        text-align: right;\n",
              "    }\n",
              "</style>\n",
              "<table border=\"1\" class=\"dataframe\">\n",
              "  <thead>\n",
              "    <tr style=\"text-align: right;\">\n",
              "      <th></th>\n",
              "      <th>ramanshift_800</th>\n",
              "      <th>ramanshift_801</th>\n",
              "      <th>ramanshift_802</th>\n",
              "      <th>ramanshift_803</th>\n",
              "      <th>ramanshift_804</th>\n",
              "      <th>ramanshift_805</th>\n",
              "      <th>ramanshift_806</th>\n",
              "      <th>ramanshift_807</th>\n",
              "      <th>ramanshift_808</th>\n",
              "      <th>ramanshift_809</th>\n",
              "      <th>...</th>\n",
              "      <th>ramanshift_1791</th>\n",
              "      <th>ramanshift_1792</th>\n",
              "      <th>ramanshift_1793</th>\n",
              "      <th>ramanshift_1794</th>\n",
              "      <th>ramanshift_1795</th>\n",
              "      <th>ramanshift_1796</th>\n",
              "      <th>ramanshift_1797</th>\n",
              "      <th>ramanshift_1798</th>\n",
              "      <th>ramanshift_1799</th>\n",
              "      <th>ramanshift_1800</th>\n",
              "    </tr>\n",
              "  </thead>\n",
              "  <tbody>\n",
              "    <tr>\n",
              "      <th>47</th>\n",
              "      <td>0.001505</td>\n",
              "      <td>0.001581</td>\n",
              "      <td>0.001600</td>\n",
              "      <td>0.001566</td>\n",
              "      <td>0.001535</td>\n",
              "      <td>0.001511</td>\n",
              "      <td>0.001490</td>\n",
              "      <td>0.001501</td>\n",
              "      <td>0.001512</td>\n",
              "      <td>0.001522</td>\n",
              "      <td>...</td>\n",
              "      <td>0.000326</td>\n",
              "      <td>0.000355</td>\n",
              "      <td>0.000289</td>\n",
              "      <td>0.000279</td>\n",
              "      <td>0.000278</td>\n",
              "      <td>0.000287</td>\n",
              "      <td>0.000297</td>\n",
              "      <td>0.000310</td>\n",
              "      <td>0.000383</td>\n",
              "      <td>0.000416</td>\n",
              "    </tr>\n",
              "    <tr>\n",
              "      <th>74</th>\n",
              "      <td>0.001489</td>\n",
              "      <td>0.001544</td>\n",
              "      <td>0.001563</td>\n",
              "      <td>0.001551</td>\n",
              "      <td>0.001538</td>\n",
              "      <td>0.001521</td>\n",
              "      <td>0.001506</td>\n",
              "      <td>0.001530</td>\n",
              "      <td>0.001553</td>\n",
              "      <td>0.001526</td>\n",
              "      <td>...</td>\n",
              "      <td>0.000565</td>\n",
              "      <td>0.000560</td>\n",
              "      <td>0.000557</td>\n",
              "      <td>0.000543</td>\n",
              "      <td>0.000535</td>\n",
              "      <td>0.000540</td>\n",
              "      <td>0.000525</td>\n",
              "      <td>0.000500</td>\n",
              "      <td>0.000522</td>\n",
              "      <td>0.000536</td>\n",
              "    </tr>\n",
              "    <tr>\n",
              "      <th>32</th>\n",
              "      <td>0.001524</td>\n",
              "      <td>0.001575</td>\n",
              "      <td>0.001607</td>\n",
              "      <td>0.001624</td>\n",
              "      <td>0.001609</td>\n",
              "      <td>0.001520</td>\n",
              "      <td>0.001440</td>\n",
              "      <td>0.001475</td>\n",
              "      <td>0.001509</td>\n",
              "      <td>0.001505</td>\n",
              "      <td>...</td>\n",
              "      <td>0.000524</td>\n",
              "      <td>0.000525</td>\n",
              "      <td>0.000511</td>\n",
              "      <td>0.000528</td>\n",
              "      <td>0.000532</td>\n",
              "      <td>0.000501</td>\n",
              "      <td>0.000504</td>\n",
              "      <td>0.000522</td>\n",
              "      <td>0.000506</td>\n",
              "      <td>0.000496</td>\n",
              "    </tr>\n",
              "    <tr>\n",
              "      <th>12</th>\n",
              "      <td>0.001603</td>\n",
              "      <td>0.001696</td>\n",
              "      <td>0.001763</td>\n",
              "      <td>0.001805</td>\n",
              "      <td>0.001791</td>\n",
              "      <td>0.001645</td>\n",
              "      <td>0.001514</td>\n",
              "      <td>0.001588</td>\n",
              "      <td>0.001661</td>\n",
              "      <td>0.001643</td>\n",
              "      <td>...</td>\n",
              "      <td>0.000423</td>\n",
              "      <td>0.000412</td>\n",
              "      <td>0.000338</td>\n",
              "      <td>0.000360</td>\n",
              "      <td>0.000368</td>\n",
              "      <td>0.000328</td>\n",
              "      <td>0.000356</td>\n",
              "      <td>0.000418</td>\n",
              "      <td>0.000397</td>\n",
              "      <td>0.000392</td>\n",
              "    </tr>\n",
              "    <tr>\n",
              "      <th>5</th>\n",
              "      <td>0.002058</td>\n",
              "      <td>0.001909</td>\n",
              "      <td>0.001842</td>\n",
              "      <td>0.001851</td>\n",
              "      <td>0.001897</td>\n",
              "      <td>0.002034</td>\n",
              "      <td>0.002150</td>\n",
              "      <td>0.001996</td>\n",
              "      <td>0.001843</td>\n",
              "      <td>0.001897</td>\n",
              "      <td>...</td>\n",
              "      <td>0.000227</td>\n",
              "      <td>0.000213</td>\n",
              "      <td>0.000230</td>\n",
              "      <td>0.000197</td>\n",
              "      <td>0.000220</td>\n",
              "      <td>0.000383</td>\n",
              "      <td>0.000377</td>\n",
              "      <td>0.000285</td>\n",
              "      <td>0.000246</td>\n",
              "      <td>0.000230</td>\n",
              "    </tr>\n",
              "  </tbody>\n",
              "</table>\n",
              "<p>5 rows × 1001 columns</p>\n",
              "</div>\n",
              "    <div class=\"colab-df-buttons\">\n",
              "\n",
              "  <div class=\"colab-df-container\">\n",
              "    <button class=\"colab-df-convert\" onclick=\"convertToInteractive('df-547e7f9d-35b5-47a4-8921-6eeb3549162d')\"\n",
              "            title=\"Convert this dataframe to an interactive table.\"\n",
              "            style=\"display:none;\">\n",
              "\n",
              "  <svg xmlns=\"http://www.w3.org/2000/svg\" height=\"24px\" viewBox=\"0 -960 960 960\">\n",
              "    <path d=\"M120-120v-720h720v720H120Zm60-500h600v-160H180v160Zm220 220h160v-160H400v160Zm0 220h160v-160H400v160ZM180-400h160v-160H180v160Zm440 0h160v-160H620v160ZM180-180h160v-160H180v160Zm440 0h160v-160H620v160Z\"/>\n",
              "  </svg>\n",
              "    </button>\n",
              "\n",
              "  <style>\n",
              "    .colab-df-container {\n",
              "      display:flex;\n",
              "      gap: 12px;\n",
              "    }\n",
              "\n",
              "    .colab-df-convert {\n",
              "      background-color: #E8F0FE;\n",
              "      border: none;\n",
              "      border-radius: 50%;\n",
              "      cursor: pointer;\n",
              "      display: none;\n",
              "      fill: #1967D2;\n",
              "      height: 32px;\n",
              "      padding: 0 0 0 0;\n",
              "      width: 32px;\n",
              "    }\n",
              "\n",
              "    .colab-df-convert:hover {\n",
              "      background-color: #E2EBFA;\n",
              "      box-shadow: 0px 1px 2px rgba(60, 64, 67, 0.3), 0px 1px 3px 1px rgba(60, 64, 67, 0.15);\n",
              "      fill: #174EA6;\n",
              "    }\n",
              "\n",
              "    .colab-df-buttons div {\n",
              "      margin-bottom: 4px;\n",
              "    }\n",
              "\n",
              "    [theme=dark] .colab-df-convert {\n",
              "      background-color: #3B4455;\n",
              "      fill: #D2E3FC;\n",
              "    }\n",
              "\n",
              "    [theme=dark] .colab-df-convert:hover {\n",
              "      background-color: #434B5C;\n",
              "      box-shadow: 0px 1px 3px 1px rgba(0, 0, 0, 0.15);\n",
              "      filter: drop-shadow(0px 1px 2px rgba(0, 0, 0, 0.3));\n",
              "      fill: #FFFFFF;\n",
              "    }\n",
              "  </style>\n",
              "\n",
              "    <script>\n",
              "      const buttonEl =\n",
              "        document.querySelector('#df-547e7f9d-35b5-47a4-8921-6eeb3549162d button.colab-df-convert');\n",
              "      buttonEl.style.display =\n",
              "        google.colab.kernel.accessAllowed ? 'block' : 'none';\n",
              "\n",
              "      async function convertToInteractive(key) {\n",
              "        const element = document.querySelector('#df-547e7f9d-35b5-47a4-8921-6eeb3549162d');\n",
              "        const dataTable =\n",
              "          await google.colab.kernel.invokeFunction('convertToInteractive',\n",
              "                                                    [key], {});\n",
              "        if (!dataTable) return;\n",
              "\n",
              "        const docLinkHtml = 'Like what you see? Visit the ' +\n",
              "          '<a target=\"_blank\" href=https://colab.research.google.com/notebooks/data_table.ipynb>data table notebook</a>'\n",
              "          + ' to learn more about interactive tables.';\n",
              "        element.innerHTML = '';\n",
              "        dataTable['output_type'] = 'display_data';\n",
              "        await google.colab.output.renderOutput(dataTable, element);\n",
              "        const docLink = document.createElement('div');\n",
              "        docLink.innerHTML = docLinkHtml;\n",
              "        element.appendChild(docLink);\n",
              "      }\n",
              "    </script>\n",
              "  </div>\n",
              "\n",
              "\n",
              "    <div id=\"df-cc4c8c0d-af14-4c2a-9700-4a51997b7550\">\n",
              "      <button class=\"colab-df-quickchart\" onclick=\"quickchart('df-cc4c8c0d-af14-4c2a-9700-4a51997b7550')\"\n",
              "                title=\"Suggest charts\"\n",
              "                style=\"display:none;\">\n",
              "\n",
              "<svg xmlns=\"http://www.w3.org/2000/svg\" height=\"24px\"viewBox=\"0 0 24 24\"\n",
              "     width=\"24px\">\n",
              "    <g>\n",
              "        <path d=\"M19 3H5c-1.1 0-2 .9-2 2v14c0 1.1.9 2 2 2h14c1.1 0 2-.9 2-2V5c0-1.1-.9-2-2-2zM9 17H7v-7h2v7zm4 0h-2V7h2v10zm4 0h-2v-4h2v4z\"/>\n",
              "    </g>\n",
              "</svg>\n",
              "      </button>\n",
              "\n",
              "<style>\n",
              "  .colab-df-quickchart {\n",
              "      --bg-color: #E8F0FE;\n",
              "      --fill-color: #1967D2;\n",
              "      --hover-bg-color: #E2EBFA;\n",
              "      --hover-fill-color: #174EA6;\n",
              "      --disabled-fill-color: #AAA;\n",
              "      --disabled-bg-color: #DDD;\n",
              "  }\n",
              "\n",
              "  [theme=dark] .colab-df-quickchart {\n",
              "      --bg-color: #3B4455;\n",
              "      --fill-color: #D2E3FC;\n",
              "      --hover-bg-color: #434B5C;\n",
              "      --hover-fill-color: #FFFFFF;\n",
              "      --disabled-bg-color: #3B4455;\n",
              "      --disabled-fill-color: #666;\n",
              "  }\n",
              "\n",
              "  .colab-df-quickchart {\n",
              "    background-color: var(--bg-color);\n",
              "    border: none;\n",
              "    border-radius: 50%;\n",
              "    cursor: pointer;\n",
              "    display: none;\n",
              "    fill: var(--fill-color);\n",
              "    height: 32px;\n",
              "    padding: 0;\n",
              "    width: 32px;\n",
              "  }\n",
              "\n",
              "  .colab-df-quickchart:hover {\n",
              "    background-color: var(--hover-bg-color);\n",
              "    box-shadow: 0 1px 2px rgba(60, 64, 67, 0.3), 0 1px 3px 1px rgba(60, 64, 67, 0.15);\n",
              "    fill: var(--button-hover-fill-color);\n",
              "  }\n",
              "\n",
              "  .colab-df-quickchart-complete:disabled,\n",
              "  .colab-df-quickchart-complete:disabled:hover {\n",
              "    background-color: var(--disabled-bg-color);\n",
              "    fill: var(--disabled-fill-color);\n",
              "    box-shadow: none;\n",
              "  }\n",
              "\n",
              "  .colab-df-spinner {\n",
              "    border: 2px solid var(--fill-color);\n",
              "    border-color: transparent;\n",
              "    border-bottom-color: var(--fill-color);\n",
              "    animation:\n",
              "      spin 1s steps(1) infinite;\n",
              "  }\n",
              "\n",
              "  @keyframes spin {\n",
              "    0% {\n",
              "      border-color: transparent;\n",
              "      border-bottom-color: var(--fill-color);\n",
              "      border-left-color: var(--fill-color);\n",
              "    }\n",
              "    20% {\n",
              "      border-color: transparent;\n",
              "      border-left-color: var(--fill-color);\n",
              "      border-top-color: var(--fill-color);\n",
              "    }\n",
              "    30% {\n",
              "      border-color: transparent;\n",
              "      border-left-color: var(--fill-color);\n",
              "      border-top-color: var(--fill-color);\n",
              "      border-right-color: var(--fill-color);\n",
              "    }\n",
              "    40% {\n",
              "      border-color: transparent;\n",
              "      border-right-color: var(--fill-color);\n",
              "      border-top-color: var(--fill-color);\n",
              "    }\n",
              "    60% {\n",
              "      border-color: transparent;\n",
              "      border-right-color: var(--fill-color);\n",
              "    }\n",
              "    80% {\n",
              "      border-color: transparent;\n",
              "      border-right-color: var(--fill-color);\n",
              "      border-bottom-color: var(--fill-color);\n",
              "    }\n",
              "    90% {\n",
              "      border-color: transparent;\n",
              "      border-bottom-color: var(--fill-color);\n",
              "    }\n",
              "  }\n",
              "</style>\n",
              "\n",
              "      <script>\n",
              "        async function quickchart(key) {\n",
              "          const quickchartButtonEl =\n",
              "            document.querySelector('#' + key + ' button');\n",
              "          quickchartButtonEl.disabled = true;  // To prevent multiple clicks.\n",
              "          quickchartButtonEl.classList.add('colab-df-spinner');\n",
              "          try {\n",
              "            const charts = await google.colab.kernel.invokeFunction(\n",
              "                'suggestCharts', [key], {});\n",
              "          } catch (error) {\n",
              "            console.error('Error during call to suggestCharts:', error);\n",
              "          }\n",
              "          quickchartButtonEl.classList.remove('colab-df-spinner');\n",
              "          quickchartButtonEl.classList.add('colab-df-quickchart-complete');\n",
              "        }\n",
              "        (() => {\n",
              "          let quickchartButtonEl =\n",
              "            document.querySelector('#df-cc4c8c0d-af14-4c2a-9700-4a51997b7550 button');\n",
              "          quickchartButtonEl.style.display =\n",
              "            google.colab.kernel.accessAllowed ? 'block' : 'none';\n",
              "        })();\n",
              "      </script>\n",
              "    </div>\n",
              "\n",
              "    </div>\n",
              "  </div>\n"
            ],
            "application/vnd.google.colaboratory.intrinsic+json": {
              "type": "dataframe",
              "variable_name": "X_train_area_norm"
            }
          },
          "metadata": {},
          "execution_count": 10
        }
      ]
    },
    {
      "cell_type": "markdown",
      "source": [
        "**StandardScaler on intensity:** Corrects for feature-to-feature variations across a single spectrum\n",
        "\n",
        "**StandardScaler** is a way to standardize the feature values for the model without destroying the intrinsic structure (the relative peak heights and shapes) of each individual Raman spectrum.\n",
        "\n",
        "In contrast, **MinMaxScaler** scales intensity to the range of [0,1] and is prone to outliers, causing the model to potentially losing important features if other feattures are scaled down due to an outlier."
      ],
      "metadata": {
        "id": "8TIVwBY--m3X"
      }
    },
    {
      "cell_type": "code",
      "source": [
        "scaler = StandardScaler()\n",
        "scaler.fit(X_train_area_norm)"
      ],
      "metadata": {
        "colab": {
          "base_uri": "https://localhost:8080/",
          "height": 80
        },
        "id": "fy-hZC6r_8i-",
        "outputId": "a951f0dd-34d5-4383-d6d2-42885421502a"
      },
      "execution_count": null,
      "outputs": [
        {
          "output_type": "execute_result",
          "data": {
            "text/plain": [
              "StandardScaler()"
            ],
            "text/html": [
              "<style>#sk-container-id-1 {\n",
              "  /* Definition of color scheme common for light and dark mode */\n",
              "  --sklearn-color-text: #000;\n",
              "  --sklearn-color-text-muted: #666;\n",
              "  --sklearn-color-line: gray;\n",
              "  /* Definition of color scheme for unfitted estimators */\n",
              "  --sklearn-color-unfitted-level-0: #fff5e6;\n",
              "  --sklearn-color-unfitted-level-1: #f6e4d2;\n",
              "  --sklearn-color-unfitted-level-2: #ffe0b3;\n",
              "  --sklearn-color-unfitted-level-3: chocolate;\n",
              "  /* Definition of color scheme for fitted estimators */\n",
              "  --sklearn-color-fitted-level-0: #f0f8ff;\n",
              "  --sklearn-color-fitted-level-1: #d4ebff;\n",
              "  --sklearn-color-fitted-level-2: #b3dbfd;\n",
              "  --sklearn-color-fitted-level-3: cornflowerblue;\n",
              "\n",
              "  /* Specific color for light theme */\n",
              "  --sklearn-color-text-on-default-background: var(--sg-text-color, var(--theme-code-foreground, var(--jp-content-font-color1, black)));\n",
              "  --sklearn-color-background: var(--sg-background-color, var(--theme-background, var(--jp-layout-color0, white)));\n",
              "  --sklearn-color-border-box: var(--sg-text-color, var(--theme-code-foreground, var(--jp-content-font-color1, black)));\n",
              "  --sklearn-color-icon: #696969;\n",
              "\n",
              "  @media (prefers-color-scheme: dark) {\n",
              "    /* Redefinition of color scheme for dark theme */\n",
              "    --sklearn-color-text-on-default-background: var(--sg-text-color, var(--theme-code-foreground, var(--jp-content-font-color1, white)));\n",
              "    --sklearn-color-background: var(--sg-background-color, var(--theme-background, var(--jp-layout-color0, #111)));\n",
              "    --sklearn-color-border-box: var(--sg-text-color, var(--theme-code-foreground, var(--jp-content-font-color1, white)));\n",
              "    --sklearn-color-icon: #878787;\n",
              "  }\n",
              "}\n",
              "\n",
              "#sk-container-id-1 {\n",
              "  color: var(--sklearn-color-text);\n",
              "}\n",
              "\n",
              "#sk-container-id-1 pre {\n",
              "  padding: 0;\n",
              "}\n",
              "\n",
              "#sk-container-id-1 input.sk-hidden--visually {\n",
              "  border: 0;\n",
              "  clip: rect(1px 1px 1px 1px);\n",
              "  clip: rect(1px, 1px, 1px, 1px);\n",
              "  height: 1px;\n",
              "  margin: -1px;\n",
              "  overflow: hidden;\n",
              "  padding: 0;\n",
              "  position: absolute;\n",
              "  width: 1px;\n",
              "}\n",
              "\n",
              "#sk-container-id-1 div.sk-dashed-wrapped {\n",
              "  border: 1px dashed var(--sklearn-color-line);\n",
              "  margin: 0 0.4em 0.5em 0.4em;\n",
              "  box-sizing: border-box;\n",
              "  padding-bottom: 0.4em;\n",
              "  background-color: var(--sklearn-color-background);\n",
              "}\n",
              "\n",
              "#sk-container-id-1 div.sk-container {\n",
              "  /* jupyter's `normalize.less` sets `[hidden] { display: none; }`\n",
              "     but bootstrap.min.css set `[hidden] { display: none !important; }`\n",
              "     so we also need the `!important` here to be able to override the\n",
              "     default hidden behavior on the sphinx rendered scikit-learn.org.\n",
              "     See: https://github.com/scikit-learn/scikit-learn/issues/21755 */\n",
              "  display: inline-block !important;\n",
              "  position: relative;\n",
              "}\n",
              "\n",
              "#sk-container-id-1 div.sk-text-repr-fallback {\n",
              "  display: none;\n",
              "}\n",
              "\n",
              "div.sk-parallel-item,\n",
              "div.sk-serial,\n",
              "div.sk-item {\n",
              "  /* draw centered vertical line to link estimators */\n",
              "  background-image: linear-gradient(var(--sklearn-color-text-on-default-background), var(--sklearn-color-text-on-default-background));\n",
              "  background-size: 2px 100%;\n",
              "  background-repeat: no-repeat;\n",
              "  background-position: center center;\n",
              "}\n",
              "\n",
              "/* Parallel-specific style estimator block */\n",
              "\n",
              "#sk-container-id-1 div.sk-parallel-item::after {\n",
              "  content: \"\";\n",
              "  width: 100%;\n",
              "  border-bottom: 2px solid var(--sklearn-color-text-on-default-background);\n",
              "  flex-grow: 1;\n",
              "}\n",
              "\n",
              "#sk-container-id-1 div.sk-parallel {\n",
              "  display: flex;\n",
              "  align-items: stretch;\n",
              "  justify-content: center;\n",
              "  background-color: var(--sklearn-color-background);\n",
              "  position: relative;\n",
              "}\n",
              "\n",
              "#sk-container-id-1 div.sk-parallel-item {\n",
              "  display: flex;\n",
              "  flex-direction: column;\n",
              "}\n",
              "\n",
              "#sk-container-id-1 div.sk-parallel-item:first-child::after {\n",
              "  align-self: flex-end;\n",
              "  width: 50%;\n",
              "}\n",
              "\n",
              "#sk-container-id-1 div.sk-parallel-item:last-child::after {\n",
              "  align-self: flex-start;\n",
              "  width: 50%;\n",
              "}\n",
              "\n",
              "#sk-container-id-1 div.sk-parallel-item:only-child::after {\n",
              "  width: 0;\n",
              "}\n",
              "\n",
              "/* Serial-specific style estimator block */\n",
              "\n",
              "#sk-container-id-1 div.sk-serial {\n",
              "  display: flex;\n",
              "  flex-direction: column;\n",
              "  align-items: center;\n",
              "  background-color: var(--sklearn-color-background);\n",
              "  padding-right: 1em;\n",
              "  padding-left: 1em;\n",
              "}\n",
              "\n",
              "\n",
              "/* Toggleable style: style used for estimator/Pipeline/ColumnTransformer box that is\n",
              "clickable and can be expanded/collapsed.\n",
              "- Pipeline and ColumnTransformer use this feature and define the default style\n",
              "- Estimators will overwrite some part of the style using the `sk-estimator` class\n",
              "*/\n",
              "\n",
              "/* Pipeline and ColumnTransformer style (default) */\n",
              "\n",
              "#sk-container-id-1 div.sk-toggleable {\n",
              "  /* Default theme specific background. It is overwritten whether we have a\n",
              "  specific estimator or a Pipeline/ColumnTransformer */\n",
              "  background-color: var(--sklearn-color-background);\n",
              "}\n",
              "\n",
              "/* Toggleable label */\n",
              "#sk-container-id-1 label.sk-toggleable__label {\n",
              "  cursor: pointer;\n",
              "  display: flex;\n",
              "  width: 100%;\n",
              "  margin-bottom: 0;\n",
              "  padding: 0.5em;\n",
              "  box-sizing: border-box;\n",
              "  text-align: center;\n",
              "  align-items: start;\n",
              "  justify-content: space-between;\n",
              "  gap: 0.5em;\n",
              "}\n",
              "\n",
              "#sk-container-id-1 label.sk-toggleable__label .caption {\n",
              "  font-size: 0.6rem;\n",
              "  font-weight: lighter;\n",
              "  color: var(--sklearn-color-text-muted);\n",
              "}\n",
              "\n",
              "#sk-container-id-1 label.sk-toggleable__label-arrow:before {\n",
              "  /* Arrow on the left of the label */\n",
              "  content: \"▸\";\n",
              "  float: left;\n",
              "  margin-right: 0.25em;\n",
              "  color: var(--sklearn-color-icon);\n",
              "}\n",
              "\n",
              "#sk-container-id-1 label.sk-toggleable__label-arrow:hover:before {\n",
              "  color: var(--sklearn-color-text);\n",
              "}\n",
              "\n",
              "/* Toggleable content - dropdown */\n",
              "\n",
              "#sk-container-id-1 div.sk-toggleable__content {\n",
              "  max-height: 0;\n",
              "  max-width: 0;\n",
              "  overflow: hidden;\n",
              "  text-align: left;\n",
              "  /* unfitted */\n",
              "  background-color: var(--sklearn-color-unfitted-level-0);\n",
              "}\n",
              "\n",
              "#sk-container-id-1 div.sk-toggleable__content.fitted {\n",
              "  /* fitted */\n",
              "  background-color: var(--sklearn-color-fitted-level-0);\n",
              "}\n",
              "\n",
              "#sk-container-id-1 div.sk-toggleable__content pre {\n",
              "  margin: 0.2em;\n",
              "  border-radius: 0.25em;\n",
              "  color: var(--sklearn-color-text);\n",
              "  /* unfitted */\n",
              "  background-color: var(--sklearn-color-unfitted-level-0);\n",
              "}\n",
              "\n",
              "#sk-container-id-1 div.sk-toggleable__content.fitted pre {\n",
              "  /* unfitted */\n",
              "  background-color: var(--sklearn-color-fitted-level-0);\n",
              "}\n",
              "\n",
              "#sk-container-id-1 input.sk-toggleable__control:checked~div.sk-toggleable__content {\n",
              "  /* Expand drop-down */\n",
              "  max-height: 200px;\n",
              "  max-width: 100%;\n",
              "  overflow: auto;\n",
              "}\n",
              "\n",
              "#sk-container-id-1 input.sk-toggleable__control:checked~label.sk-toggleable__label-arrow:before {\n",
              "  content: \"▾\";\n",
              "}\n",
              "\n",
              "/* Pipeline/ColumnTransformer-specific style */\n",
              "\n",
              "#sk-container-id-1 div.sk-label input.sk-toggleable__control:checked~label.sk-toggleable__label {\n",
              "  color: var(--sklearn-color-text);\n",
              "  background-color: var(--sklearn-color-unfitted-level-2);\n",
              "}\n",
              "\n",
              "#sk-container-id-1 div.sk-label.fitted input.sk-toggleable__control:checked~label.sk-toggleable__label {\n",
              "  background-color: var(--sklearn-color-fitted-level-2);\n",
              "}\n",
              "\n",
              "/* Estimator-specific style */\n",
              "\n",
              "/* Colorize estimator box */\n",
              "#sk-container-id-1 div.sk-estimator input.sk-toggleable__control:checked~label.sk-toggleable__label {\n",
              "  /* unfitted */\n",
              "  background-color: var(--sklearn-color-unfitted-level-2);\n",
              "}\n",
              "\n",
              "#sk-container-id-1 div.sk-estimator.fitted input.sk-toggleable__control:checked~label.sk-toggleable__label {\n",
              "  /* fitted */\n",
              "  background-color: var(--sklearn-color-fitted-level-2);\n",
              "}\n",
              "\n",
              "#sk-container-id-1 div.sk-label label.sk-toggleable__label,\n",
              "#sk-container-id-1 div.sk-label label {\n",
              "  /* The background is the default theme color */\n",
              "  color: var(--sklearn-color-text-on-default-background);\n",
              "}\n",
              "\n",
              "/* On hover, darken the color of the background */\n",
              "#sk-container-id-1 div.sk-label:hover label.sk-toggleable__label {\n",
              "  color: var(--sklearn-color-text);\n",
              "  background-color: var(--sklearn-color-unfitted-level-2);\n",
              "}\n",
              "\n",
              "/* Label box, darken color on hover, fitted */\n",
              "#sk-container-id-1 div.sk-label.fitted:hover label.sk-toggleable__label.fitted {\n",
              "  color: var(--sklearn-color-text);\n",
              "  background-color: var(--sklearn-color-fitted-level-2);\n",
              "}\n",
              "\n",
              "/* Estimator label */\n",
              "\n",
              "#sk-container-id-1 div.sk-label label {\n",
              "  font-family: monospace;\n",
              "  font-weight: bold;\n",
              "  display: inline-block;\n",
              "  line-height: 1.2em;\n",
              "}\n",
              "\n",
              "#sk-container-id-1 div.sk-label-container {\n",
              "  text-align: center;\n",
              "}\n",
              "\n",
              "/* Estimator-specific */\n",
              "#sk-container-id-1 div.sk-estimator {\n",
              "  font-family: monospace;\n",
              "  border: 1px dotted var(--sklearn-color-border-box);\n",
              "  border-radius: 0.25em;\n",
              "  box-sizing: border-box;\n",
              "  margin-bottom: 0.5em;\n",
              "  /* unfitted */\n",
              "  background-color: var(--sklearn-color-unfitted-level-0);\n",
              "}\n",
              "\n",
              "#sk-container-id-1 div.sk-estimator.fitted {\n",
              "  /* fitted */\n",
              "  background-color: var(--sklearn-color-fitted-level-0);\n",
              "}\n",
              "\n",
              "/* on hover */\n",
              "#sk-container-id-1 div.sk-estimator:hover {\n",
              "  /* unfitted */\n",
              "  background-color: var(--sklearn-color-unfitted-level-2);\n",
              "}\n",
              "\n",
              "#sk-container-id-1 div.sk-estimator.fitted:hover {\n",
              "  /* fitted */\n",
              "  background-color: var(--sklearn-color-fitted-level-2);\n",
              "}\n",
              "\n",
              "/* Specification for estimator info (e.g. \"i\" and \"?\") */\n",
              "\n",
              "/* Common style for \"i\" and \"?\" */\n",
              "\n",
              ".sk-estimator-doc-link,\n",
              "a:link.sk-estimator-doc-link,\n",
              "a:visited.sk-estimator-doc-link {\n",
              "  float: right;\n",
              "  font-size: smaller;\n",
              "  line-height: 1em;\n",
              "  font-family: monospace;\n",
              "  background-color: var(--sklearn-color-background);\n",
              "  border-radius: 1em;\n",
              "  height: 1em;\n",
              "  width: 1em;\n",
              "  text-decoration: none !important;\n",
              "  margin-left: 0.5em;\n",
              "  text-align: center;\n",
              "  /* unfitted */\n",
              "  border: var(--sklearn-color-unfitted-level-1) 1pt solid;\n",
              "  color: var(--sklearn-color-unfitted-level-1);\n",
              "}\n",
              "\n",
              ".sk-estimator-doc-link.fitted,\n",
              "a:link.sk-estimator-doc-link.fitted,\n",
              "a:visited.sk-estimator-doc-link.fitted {\n",
              "  /* fitted */\n",
              "  border: var(--sklearn-color-fitted-level-1) 1pt solid;\n",
              "  color: var(--sklearn-color-fitted-level-1);\n",
              "}\n",
              "\n",
              "/* On hover */\n",
              "div.sk-estimator:hover .sk-estimator-doc-link:hover,\n",
              ".sk-estimator-doc-link:hover,\n",
              "div.sk-label-container:hover .sk-estimator-doc-link:hover,\n",
              ".sk-estimator-doc-link:hover {\n",
              "  /* unfitted */\n",
              "  background-color: var(--sklearn-color-unfitted-level-3);\n",
              "  color: var(--sklearn-color-background);\n",
              "  text-decoration: none;\n",
              "}\n",
              "\n",
              "div.sk-estimator.fitted:hover .sk-estimator-doc-link.fitted:hover,\n",
              ".sk-estimator-doc-link.fitted:hover,\n",
              "div.sk-label-container:hover .sk-estimator-doc-link.fitted:hover,\n",
              ".sk-estimator-doc-link.fitted:hover {\n",
              "  /* fitted */\n",
              "  background-color: var(--sklearn-color-fitted-level-3);\n",
              "  color: var(--sklearn-color-background);\n",
              "  text-decoration: none;\n",
              "}\n",
              "\n",
              "/* Span, style for the box shown on hovering the info icon */\n",
              ".sk-estimator-doc-link span {\n",
              "  display: none;\n",
              "  z-index: 9999;\n",
              "  position: relative;\n",
              "  font-weight: normal;\n",
              "  right: .2ex;\n",
              "  padding: .5ex;\n",
              "  margin: .5ex;\n",
              "  width: min-content;\n",
              "  min-width: 20ex;\n",
              "  max-width: 50ex;\n",
              "  color: var(--sklearn-color-text);\n",
              "  box-shadow: 2pt 2pt 4pt #999;\n",
              "  /* unfitted */\n",
              "  background: var(--sklearn-color-unfitted-level-0);\n",
              "  border: .5pt solid var(--sklearn-color-unfitted-level-3);\n",
              "}\n",
              "\n",
              ".sk-estimator-doc-link.fitted span {\n",
              "  /* fitted */\n",
              "  background: var(--sklearn-color-fitted-level-0);\n",
              "  border: var(--sklearn-color-fitted-level-3);\n",
              "}\n",
              "\n",
              ".sk-estimator-doc-link:hover span {\n",
              "  display: block;\n",
              "}\n",
              "\n",
              "/* \"?\"-specific style due to the `<a>` HTML tag */\n",
              "\n",
              "#sk-container-id-1 a.estimator_doc_link {\n",
              "  float: right;\n",
              "  font-size: 1rem;\n",
              "  line-height: 1em;\n",
              "  font-family: monospace;\n",
              "  background-color: var(--sklearn-color-background);\n",
              "  border-radius: 1rem;\n",
              "  height: 1rem;\n",
              "  width: 1rem;\n",
              "  text-decoration: none;\n",
              "  /* unfitted */\n",
              "  color: var(--sklearn-color-unfitted-level-1);\n",
              "  border: var(--sklearn-color-unfitted-level-1) 1pt solid;\n",
              "}\n",
              "\n",
              "#sk-container-id-1 a.estimator_doc_link.fitted {\n",
              "  /* fitted */\n",
              "  border: var(--sklearn-color-fitted-level-1) 1pt solid;\n",
              "  color: var(--sklearn-color-fitted-level-1);\n",
              "}\n",
              "\n",
              "/* On hover */\n",
              "#sk-container-id-1 a.estimator_doc_link:hover {\n",
              "  /* unfitted */\n",
              "  background-color: var(--sklearn-color-unfitted-level-3);\n",
              "  color: var(--sklearn-color-background);\n",
              "  text-decoration: none;\n",
              "}\n",
              "\n",
              "#sk-container-id-1 a.estimator_doc_link.fitted:hover {\n",
              "  /* fitted */\n",
              "  background-color: var(--sklearn-color-fitted-level-3);\n",
              "}\n",
              "</style><div id=\"sk-container-id-1\" class=\"sk-top-container\"><div class=\"sk-text-repr-fallback\"><pre>StandardScaler()</pre><b>In a Jupyter environment, please rerun this cell to show the HTML representation or trust the notebook. <br />On GitHub, the HTML representation is unable to render, please try loading this page with nbviewer.org.</b></div><div class=\"sk-container\" hidden><div class=\"sk-item\"><div class=\"sk-estimator fitted sk-toggleable\"><input class=\"sk-toggleable__control sk-hidden--visually\" id=\"sk-estimator-id-1\" type=\"checkbox\" checked><label for=\"sk-estimator-id-1\" class=\"sk-toggleable__label fitted sk-toggleable__label-arrow\"><div><div>StandardScaler</div></div><div><a class=\"sk-estimator-doc-link fitted\" rel=\"noreferrer\" target=\"_blank\" href=\"https://scikit-learn.org/1.6/modules/generated/sklearn.preprocessing.StandardScaler.html\">?<span>Documentation for StandardScaler</span></a><span class=\"sk-estimator-doc-link fitted\">i<span>Fitted</span></span></div></label><div class=\"sk-toggleable__content fitted\"><pre>StandardScaler()</pre></div> </div></div></div></div>"
            ]
          },
          "metadata": {},
          "execution_count": 11
        }
      ]
    },
    {
      "cell_type": "code",
      "source": [
        "X_train_final = scaler.transform(X_train_area_norm)\n",
        "X_test_final = scaler.transform(X_test_area_norm)"
      ],
      "metadata": {
        "id": "1S5SuBSfA3Z4"
      },
      "execution_count": null,
      "outputs": []
    },
    {
      "cell_type": "code",
      "source": [
        "# StandardScaler function returns a NumPy array by default\n",
        "X_train_final, X_train_final.shape"
      ],
      "metadata": {
        "colab": {
          "base_uri": "https://localhost:8080/"
        },
        "id": "e8qHFMiPBjfw",
        "outputId": "03cb53e3-e4b9-44c0-bc0d-accbe86b7612"
      },
      "execution_count": null,
      "outputs": [
        {
          "output_type": "execute_result",
          "data": {
            "text/plain": [
              "(array([[-0.4098975 , -0.23786521, -0.25019023, ..., -1.19539367,\n",
              "         -0.62644548, -0.31818051],\n",
              "        [-0.46731539, -0.44734005, -0.52609923, ...,  0.46831951,\n",
              "          0.79209793,  0.97464765],\n",
              "        [-0.33781736, -0.27555286, -0.19323863, ...,  0.65733175,\n",
              "          0.62983251,  0.54340917],\n",
              "        ...,\n",
              "        [-0.30966081, -0.15925807, -0.07600912, ...,  0.3897263 ,\n",
              "          0.58010622,  0.69705036],\n",
              "        [-0.59164697, -0.85051866, -1.13767297, ...,  0.89586998,\n",
              "          0.97866885,  0.96005022],\n",
              "        [-0.299181  , -0.45160391, -0.62074271, ...,  0.73570112,\n",
              "          0.81684756,  0.85185695]]),\n",
              " (64, 1001))"
            ]
          },
          "metadata": {},
          "execution_count": 13
        }
      ]
    },
    {
      "cell_type": "markdown",
      "source": [
        "1. Fit (Learn the Rules) 🧠\n",
        "The .fit() method is the learning step. The scaler analyzes your training data (X_train_area_norm) to calculate the parameters it needs for the transformation (in the case of StandardScaler, it's the mean and standard deviation of each feature). This step should only ever be done on the training data. This ensures that no information from your test set can influence the transformation rules.\n",
        "\n",
        "2. Transform (Apply the Rules)\n",
        "It takes the rules learned during the fit step and applies them to whatever data provided. Must apply this same transformation to both training data and test data to ensure they are processed in the exact same way."
      ],
      "metadata": {
        "id": "8KwLvJmGYhrr"
      }
    },
    {
      "cell_type": "markdown",
      "source": [
        "## Create a base model"
      ],
      "metadata": {
        "id": "uJb89vZME4Ef"
      }
    },
    {
      "cell_type": "code",
      "source": [
        "# Train a baseline model\n",
        "baseline_model = LogisticRegression(max_iter=1000)\n",
        "baseline_model.fit(X_train_final, y_train)\n",
        "\n",
        "# Evaluate the baseline\n",
        "baseline_preds = baseline_model.predict(X_test_final)\n",
        "baseline_accuracy = accuracy_score(y_test, baseline_preds)\n",
        "print(f\"Baseline Logistic Regression Accuracy: {baseline_accuracy:.4f}\")"
      ],
      "metadata": {
        "colab": {
          "base_uri": "https://localhost:8080/"
        },
        "id": "RNx0omvEE-8m",
        "outputId": "02ad1a9b-9a4e-44ce-a68b-afc923430146"
      },
      "execution_count": null,
      "outputs": [
        {
          "output_type": "stream",
          "name": "stdout",
          "text": [
            "Baseline Logistic Regression Accuracy: 0.8750\n"
          ]
        }
      ]
    },
    {
      "cell_type": "markdown",
      "source": [
        "The simple Logistic Regression model achieved a strong baseline accuracy of 87.5%. This sets a benchmark that the neural network models must outperform to justify their increased complexity"
      ],
      "metadata": {
        "id": "psHAPxGGHSON"
      }
    },
    {
      "cell_type": "markdown",
      "source": [
        "## Building a model with Dense layers"
      ],
      "metadata": {
        "id": "v6hCNh95Blj2"
      }
    },
    {
      "cell_type": "code",
      "source": [
        "# set random seed\n",
        "tf.random.set_seed(42)\n",
        "\n",
        "# Create a model\n",
        "model_1 = tf.keras.Sequential([\n",
        "    tf.keras.layers.Dense(4, activation = \"relu\"),\n",
        "    tf.keras.layers.Dense(4, activation = \"relu\"),\n",
        "    tf.keras.layers.Dense(1, activation = \"sigmoid\"),\n",
        "])\n",
        "\n",
        "# Compile the model\n",
        "model_1.compile(loss = tf.keras.losses.BinaryCrossentropy(),\n",
        "        optimizer = tf.keras.optimizers.Adam(learning_rate = 0.001),\n",
        "        metrics = [\"accuracy\"]\n",
        "        )\n",
        "\n",
        "# Create a learning_rate scheduler to find optimal learning rate\n",
        "lr_scheduler = tf.keras.callbacks.LearningRateScheduler(lambda epoch: 1e-4*10**(epoch/20))\n",
        "\n",
        "history_1 = model_1.fit(x = X_train_final,\n",
        "             y = y_train,\n",
        "             epochs = 100,\n",
        "             validation_data = (X_test_final, y_test),\n",
        "             callbacks=[lr_scheduler],\n",
        "             verbose = 0\n",
        "             )"
      ],
      "metadata": {
        "id": "mzfZEl-yFlAQ"
      },
      "execution_count": null,
      "outputs": []
    },
    {
      "cell_type": "code",
      "source": [
        "# Learning rate at each epoch\n",
        "lrs = 1e-4*10**(np.arange(100)/20)\n",
        "lrs"
      ],
      "metadata": {
        "colab": {
          "base_uri": "https://localhost:8080/"
        },
        "id": "0gBkoaUtacCc",
        "outputId": "a8020d0c-1cee-4d91-e644-ad4a173b64b7"
      },
      "execution_count": null,
      "outputs": [
        {
          "output_type": "execute_result",
          "data": {
            "text/plain": [
              "array([1.00000000e-04, 1.12201845e-04, 1.25892541e-04, 1.41253754e-04,\n",
              "       1.58489319e-04, 1.77827941e-04, 1.99526231e-04, 2.23872114e-04,\n",
              "       2.51188643e-04, 2.81838293e-04, 3.16227766e-04, 3.54813389e-04,\n",
              "       3.98107171e-04, 4.46683592e-04, 5.01187234e-04, 5.62341325e-04,\n",
              "       6.30957344e-04, 7.07945784e-04, 7.94328235e-04, 8.91250938e-04,\n",
              "       1.00000000e-03, 1.12201845e-03, 1.25892541e-03, 1.41253754e-03,\n",
              "       1.58489319e-03, 1.77827941e-03, 1.99526231e-03, 2.23872114e-03,\n",
              "       2.51188643e-03, 2.81838293e-03, 3.16227766e-03, 3.54813389e-03,\n",
              "       3.98107171e-03, 4.46683592e-03, 5.01187234e-03, 5.62341325e-03,\n",
              "       6.30957344e-03, 7.07945784e-03, 7.94328235e-03, 8.91250938e-03,\n",
              "       1.00000000e-02, 1.12201845e-02, 1.25892541e-02, 1.41253754e-02,\n",
              "       1.58489319e-02, 1.77827941e-02, 1.99526231e-02, 2.23872114e-02,\n",
              "       2.51188643e-02, 2.81838293e-02, 3.16227766e-02, 3.54813389e-02,\n",
              "       3.98107171e-02, 4.46683592e-02, 5.01187234e-02, 5.62341325e-02,\n",
              "       6.30957344e-02, 7.07945784e-02, 7.94328235e-02, 8.91250938e-02,\n",
              "       1.00000000e-01, 1.12201845e-01, 1.25892541e-01, 1.41253754e-01,\n",
              "       1.58489319e-01, 1.77827941e-01, 1.99526231e-01, 2.23872114e-01,\n",
              "       2.51188643e-01, 2.81838293e-01, 3.16227766e-01, 3.54813389e-01,\n",
              "       3.98107171e-01, 4.46683592e-01, 5.01187234e-01, 5.62341325e-01,\n",
              "       6.30957344e-01, 7.07945784e-01, 7.94328235e-01, 8.91250938e-01,\n",
              "       1.00000000e+00, 1.12201845e+00, 1.25892541e+00, 1.41253754e+00,\n",
              "       1.58489319e+00, 1.77827941e+00, 1.99526231e+00, 2.23872114e+00,\n",
              "       2.51188643e+00, 2.81838293e+00, 3.16227766e+00, 3.54813389e+00,\n",
              "       3.98107171e+00, 4.46683592e+00, 5.01187234e+00, 5.62341325e+00,\n",
              "       6.30957344e+00, 7.07945784e+00, 7.94328235e+00, 8.91250938e+00])"
            ]
          },
          "metadata": {},
          "execution_count": 15
        }
      ]
    },
    {
      "cell_type": "code",
      "source": [
        "# Plot loss vs. learning_rate(lrs) to find the optimal learning_rate\n",
        "plt.figure(figsize = (6,4))\n",
        "plt.semilogx(lrs, history_1.history['loss'])\n",
        "plt.xlabel(\"Learning Rate\")\n",
        "plt.ylabel(\"Loss\")\n",
        "plt.title(\"Loss vs, Learning Rate\")"
      ],
      "metadata": {
        "colab": {
          "base_uri": "https://localhost:8080/",
          "height": 432
        },
        "id": "l0Ei_WRnangS",
        "outputId": "e58a4a53-10c4-45bc-e43a-8bd14dfed930"
      },
      "execution_count": null,
      "outputs": [
        {
          "output_type": "execute_result",
          "data": {
            "text/plain": [
              "Text(0.5, 1.0, 'Loss vs, Learning Rate')"
            ]
          },
          "metadata": {},
          "execution_count": 16
        },
        {
          "output_type": "display_data",
          "data": {
            "text/plain": [
              "<Figure size 600x400 with 1 Axes>"
            ],
            "image/png": "[encoded data removed]"
          },
          "metadata": {}
        }
      ]
    },
    {
      "cell_type": "code",
      "source": [
        "y_pred_1 = model_1.predict(X_test_final)\n",
        "accuracy_1 = accuracy_score(y_test, tf.round(y_pred_1))\n",
        "accuracy_1"
      ],
      "metadata": {
        "colab": {
          "base_uri": "https://localhost:8080/"
        },
        "id": "67QtxzpLBevu",
        "outputId": "79abdf14-9b6f-4bfa-9aa4-f4de2841f1b9"
      },
      "execution_count": null,
      "outputs": [
        {
          "output_type": "stream",
          "name": "stdout",
          "text": [
            "\u001b[1m1/1\u001b[0m \u001b[32m━━━━━━━━━━━━━━━━━━━━\u001b[0m\u001b[37m\u001b[0m \u001b[1m0s\u001b[0m 212ms/step\n"
          ]
        },
        {
          "output_type": "execute_result",
          "data": {
            "text/plain": [
              "0.4375"
            ]
          },
          "metadata": {},
          "execution_count": 17
        }
      ]
    },
    {
      "cell_type": "markdown",
      "source": [
        "## Improving model (Learning Rate)"
      ],
      "metadata": {
        "id": "rMbe4Ij5-_GN"
      }
    },
    {
      "cell_type": "markdown",
      "source": [
        "Using the optimal learning rate model_1 -> model_2"
      ],
      "metadata": {
        "id": "D0pA7RYhRvaf"
      }
    },
    {
      "cell_type": "code",
      "source": [
        "# set random seed\n",
        "tf.random.set_seed(42)\n",
        "\n",
        "# Create a model\n",
        "model_2 = tf.keras.Sequential([\n",
        "    tf.keras.layers.Dense(4, activation = \"relu\"),\n",
        "    #tf.keras.layers.Dropout(0.4),\n",
        "    tf.keras.layers.Dense(4, activation = \"relu\"),\n",
        "    #tf.keras.layers.Dropout(0.4),\n",
        "    tf.keras.layers.Dense(1, activation = \"sigmoid\"),\n",
        "])\n",
        "\n",
        "# Compile the model\n",
        "model_2.compile(loss = tf.keras.losses.BinaryCrossentropy(),\n",
        "        optimizer = tf.keras.optimizers.Adam(learning_rate = 0.01),\n",
        "        metrics = [\"accuracy\"]\n",
        "        )\n",
        "\n",
        "history_2 = model_2.fit(x = X_train_final,\n",
        "             y = y_train,\n",
        "             epochs = 100,\n",
        "             validation_data = (X_test_final, y_test),\n",
        "             verbose = 0\n",
        "             )"
      ],
      "metadata": {
        "id": "OEx67mNSRcIm"
      },
      "execution_count": null,
      "outputs": []
    },
    {
      "cell_type": "code",
      "source": [
        "y_pred_2 = model_2.predict(X_test_final)\n",
        "accuracy_2 = accuracy_score(y_test, tf.round(y_pred_2))\n",
        "accuracy_2"
      ],
      "metadata": {
        "colab": {
          "base_uri": "https://localhost:8080/"
        },
        "id": "COpYdSzQCJol",
        "outputId": "5a0c04a0-7237-4d80-bafd-ecd035a9268d"
      },
      "execution_count": null,
      "outputs": [
        {
          "output_type": "stream",
          "name": "stdout",
          "text": [
            "\u001b[1m1/1\u001b[0m \u001b[32m━━━━━━━━━━━━━━━━━━━━\u001b[0m\u001b[37m\u001b[0m \u001b[1m0s\u001b[0m 214ms/step\n"
          ]
        },
        {
          "output_type": "execute_result",
          "data": {
            "text/plain": [
              "0.875"
            ]
          },
          "metadata": {},
          "execution_count": 19
        }
      ]
    },
    {
      "cell_type": "markdown",
      "source": [
        "## Improving model (Dropout layer)"
      ],
      "metadata": {
        "id": "2Fz7xjTv_RKn"
      }
    },
    {
      "cell_type": "markdown",
      "source": [
        "Adding Dropout layer model_2 -> model_3\n",
        "\n",
        "**tf.keras.layers.Dropout()** is a regularization layer in TensorFlow Keras that applies Dropout to the input. This layer is designed to prevent overfitting in neural networks by randomly setting a fraction of input units to zero during each training step. For Dropout(0.4), it means 40% of the neurons are ignored at random for each training batch.\n",
        "\n",
        "* **Reduces Co-dependency**: It prevents neurons from becoming too dependent on each other. Since any neuron can be \"dropped out,\" the network is forced to learn more robust and redundant features.\n",
        "\n",
        "* **Encourages Generalization**: By preventing the model from relying on any single neuron or specific pathway, it's less likely to memorize the training data. This forces it to learn a more generalized pattern, which improves its performance on unseen data."
      ],
      "metadata": {
        "id": "jjNqgeMtiTfX"
      }
    },
    {
      "cell_type": "code",
      "source": [
        "# set random seed\n",
        "tf.random.set_seed(42)\n",
        "\n",
        "# Create a model\n",
        "model_3 = tf.keras.Sequential([\n",
        "    tf.keras.layers.Dense(4, activation = \"relu\"),\n",
        "    tf.keras.layers.Dropout(0.4),\n",
        "    tf.keras.layers.Dense(4, activation = \"relu\"),\n",
        "    tf.keras.layers.Dropout(0.4),\n",
        "    tf.keras.layers.Dense(1, activation = \"sigmoid\"),\n",
        "])\n",
        "\n",
        "# Compile the model\n",
        "model_3.compile(loss = tf.keras.losses.BinaryCrossentropy(),\n",
        "        optimizer = tf.keras.optimizers.Adam(learning_rate = 0.01),\n",
        "        metrics = [\"accuracy\"]\n",
        "        )\n",
        "\n",
        "history_3 = model_3.fit(x = X_train_final,\n",
        "             y = y_train,\n",
        "             epochs = 100,\n",
        "             validation_data = (X_test_final, y_test),\n",
        "             verbose = 0\n",
        "             )"
      ],
      "metadata": {
        "id": "uqXVsVUmiWK_"
      },
      "execution_count": null,
      "outputs": []
    },
    {
      "cell_type": "code",
      "source": [
        "y_pred_3 = model_3.predict(X_test_final)\n",
        "accuracy_3 = accuracy_score(y_test, tf.round(y_pred_3))\n",
        "accuracy_3"
      ],
      "metadata": {
        "colab": {
          "base_uri": "https://localhost:8080/"
        },
        "id": "qZjwIkF5CRH1",
        "outputId": "396e496d-19e8-4ec0-ca39-763f8c28c8ce"
      },
      "execution_count": null,
      "outputs": [
        {
          "output_type": "stream",
          "name": "stdout",
          "text": [
            "\u001b[1m1/1\u001b[0m \u001b[32m━━━━━━━━━━━━━━━━━━━━\u001b[0m\u001b[37m\u001b[0m \u001b[1m0s\u001b[0m 210ms/step\n"
          ]
        },
        {
          "output_type": "execute_result",
          "data": {
            "text/plain": [
              "0.9375"
            ]
          },
          "metadata": {},
          "execution_count": 21
        }
      ]
    },
    {
      "cell_type": "markdown",
      "source": [
        "## Improving model (Early Stopping)"
      ],
      "metadata": {
        "id": "BT_3pxc0_cuk"
      }
    },
    {
      "cell_type": "markdown",
      "source": [
        "Model 3 has a better val_accuracy (validation accuracy) but a lower accuracy (training accuracy) because it is generalizing better and overfitting less than the other models. This is a very positive result and the primary goal of regularization."
      ],
      "metadata": {
        "id": "Z5HbERTujg7P"
      }
    },
    {
      "cell_type": "markdown",
      "source": [
        "Add early stopping layer to revent from overfitting model_3 -> modle_4"
      ],
      "metadata": {
        "id": "aSlJFBsI71nx"
      }
    },
    {
      "cell_type": "code",
      "source": [
        "# set random seed\n",
        "tf.random.set_seed(42)\n",
        "\n",
        "# Create a model\n",
        "model_4 = tf.keras.Sequential([\n",
        "    tf.keras.layers.Dense(4, activation = \"relu\"),\n",
        "    tf.keras.layers.Dropout(0.4),\n",
        "    tf.keras.layers.Dense(4, activation = \"relu\"),\n",
        "    tf.keras.layers.Dropout(0.4),\n",
        "    tf.keras.layers.Dense(1, activation = \"sigmoid\"),\n",
        "])\n",
        "\n",
        "# Compile the model\n",
        "model_4.compile(loss = tf.keras.losses.BinaryCrossentropy(),\n",
        "        optimizer = tf.keras.optimizers.Adam(learning_rate = 0.01),\n",
        "        metrics = [\"accuracy\"])\n",
        "\n",
        "# Add early stopping callback\n",
        "early_stopping = tf.keras.callbacks.EarlyStopping(monitor = \"val_loss\",\n",
        "                          patience = 15,\n",
        "                          restore_best_weights=True)\n",
        "\n",
        "# Fit the model\n",
        "history_4 = model_4.fit(x = X_train_final,\n",
        "             y = y_train,\n",
        "             epochs = 100,\n",
        "             validation_data = (X_test_final, y_test),\n",
        "             callbacks = [early_stopping],\n",
        "             verbose = 0\n",
        "             )"
      ],
      "metadata": {
        "id": "p9CBnuhg79mI"
      },
      "execution_count": null,
      "outputs": []
    },
    {
      "cell_type": "code",
      "source": [
        "y_pred_4 = model_4.predict(X_test_final)\n",
        "accuracy_4 = accuracy_score(y_test, tf.round(y_pred_4))\n",
        "accuracy_4"
      ],
      "metadata": {
        "colab": {
          "base_uri": "https://localhost:8080/"
        },
        "id": "U9pu2ci-CV6N",
        "outputId": "972e4966-7f1b-40b5-8ec6-6fc6e770515b"
      },
      "execution_count": null,
      "outputs": [
        {
          "output_type": "stream",
          "name": "stdout",
          "text": [
            "\u001b[1m1/1\u001b[0m \u001b[32m━━━━━━━━━━━━━━━━━━━━\u001b[0m\u001b[37m\u001b[0m \u001b[1m0s\u001b[0m 200ms/step\n"
          ]
        },
        {
          "output_type": "execute_result",
          "data": {
            "text/plain": [
              "0.9375"
            ]
          },
          "metadata": {},
          "execution_count": 23
        }
      ]
    },
    {
      "cell_type": "code",
      "source": [
        "y_test.dtype, y_pred_4.dtype"
      ],
      "metadata": {
        "colab": {
          "base_uri": "https://localhost:8080/"
        },
        "id": "9ShPcvkCk3YC",
        "outputId": "f0f5323c-a9b5-4d39-d4d8-3044941c9eb8"
      },
      "execution_count": null,
      "outputs": [
        {
          "output_type": "execute_result",
          "data": {
            "text/plain": [
              "(dtype('int64'), dtype('float32'))"
            ]
          },
          "metadata": {},
          "execution_count": 24
        }
      ]
    },
    {
      "cell_type": "code",
      "source": [
        "plot_loss_curves(history_4)"
      ],
      "metadata": {
        "colab": {
          "base_uri": "https://localhost:8080/",
          "height": 507
        },
        "id": "Vj6y8FEkjjh2",
        "outputId": "2cba63f4-28c9-41cd-a6c5-991aaa7c488f"
      },
      "execution_count": null,
      "outputs": [
        {
          "output_type": "display_data",
          "data": {
            "text/plain": [
              "<Figure size 1200x500 with 2 Axes>"
            ],
            "image/png": "[encoded data removed]"
          },
          "metadata": {}
        }
      ]
    },
    {
      "cell_type": "code",
      "source": [
        "make_confusion_matrix(y_test, tf.round(y_pred_4))"
      ],
      "metadata": {
        "colab": {
          "base_uri": "https://localhost:8080/",
          "height": 821
        },
        "id": "1iJEalIHlaBu",
        "outputId": "e078913c-7c92-40f9-eb66-1f0d82dca4ab"
      },
      "execution_count": null,
      "outputs": [
        {
          "output_type": "display_data",
          "data": {
            "text/plain": [
              "<Figure size 1000x1000 with 2 Axes>"
            ],
            "image/png": "[encoded data removed]"
          },
          "metadata": {}
        }
      ]
    },
    {
      "cell_type": "markdown",
      "source": [
        "True negative: 6  / True positive: 8 / False negative: 0 / False positive: 1"
      ],
      "metadata": {
        "id": "GY9ZxjFXARa2"
      }
    },
    {
      "cell_type": "code",
      "source": [
        "print(classification_report(y_test, tf.round(y_pred_4), target_names=['Non-Diabetic', 'Diabetic']))"
      ],
      "metadata": {
        "colab": {
          "base_uri": "https://localhost:8080/"
        },
        "id": "4gJ5Zk9R-isc",
        "outputId": "28105a4b-eb49-4453-b886-c79dbf30799d"
      },
      "execution_count": null,
      "outputs": [
        {
          "output_type": "stream",
          "name": "stdout",
          "text": [
            "              precision    recall  f1-score   support\n",
            "\n",
            "Non-Diabetic       1.00      0.86      0.92         7\n",
            "    Diabetic       0.90      1.00      0.95         9\n",
            "\n",
            "    accuracy                           0.94        16\n",
            "   macro avg       0.95      0.93      0.94        16\n",
            "weighted avg       0.94      0.94      0.94        16\n",
            "\n"
          ]
        }
      ]
    },
    {
      "cell_type": "markdown",
      "source": [
        "The final model achieved a recall of 1.00 for the 'Diabetic' class. This is a critical result for a medical screening tool, as it means the model correctly identified all diabetic patients in the test set (zero false negatives). The precision of 0.90 indicates that out of all the patients it predicted as diabetic, 90% actually were. This balance is excellent for a screening scenario."
      ],
      "metadata": {
        "id": "MUW4dlc1FH5h"
      }
    },
    {
      "cell_type": "code",
      "source": [
        "model_comparison = pd.DataFrame(\n",
        "                 {'Model': ['baseline', 'model_1', 'model_2', 'model_3', 'model_4'],\n",
        "                  'Description': [\"Logistic Regression\", \"model_1 = NN\",\" = model_1 + Tuned LR\", \"= model_2 + Dropout\", \"= model_3+ Early Stopping\"],\n",
        "                  'accuracy_val': [baseline_accuracy, accuracy_1, accuracy_2, accuracy_3, accuracy_4]\n",
        "                 }\n",
        "                 )\n",
        "\n",
        "model_comparison"
      ],
      "metadata": {
        "colab": {
          "base_uri": "https://localhost:8080/",
          "height": 206
        },
        "id": "x2le2uf_Hse0",
        "outputId": "b1ce3e67-a1da-4459-b876-677f1699506c"
      },
      "execution_count": null,
      "outputs": [
        {
          "output_type": "execute_result",
          "data": {
            "text/plain": [
              "      Model                Description  accuracy_val\n",
              "0  baseline        Logistic Regression        0.8750\n",
              "1   model_1               model_1 = NN        0.4375\n",
              "2   model_2       = model_1 + Tuned LR        0.8750\n",
              "3   model_3        = model_2 + Dropout        0.9375\n",
              "4   model_4  = model_3+ Early Stopping        0.9375"
            ],
            "text/html": [
              "\n",
              "  <div id=\"df-6eb2427d-71d9-4525-af0a-62006e4e668d\" class=\"colab-df-container\">\n",
              "    <div>\n",
              "<style scoped>\n",
              "    .dataframe tbody tr th:only-of-type {\n",
              "        vertical-align: middle;\n",
              "    }\n",
              "\n",
              "    .dataframe tbody tr th {\n",
              "        vertical-align: top;\n",
              "    }\n",
              "\n",
              "    .dataframe thead th {\n",
              "        text-align: right;\n",
              "    }\n",
              "</style>\n",
              "<table border=\"1\" class=\"dataframe\">\n",
              "  <thead>\n",
              "    <tr style=\"text-align: right;\">\n",
              "      <th></th>\n",
              "      <th>Model</th>\n",
              "      <th>Description</th>\n",
              "      <th>accuracy_val</th>\n",
              "    </tr>\n",
              "  </thead>\n",
              "  <tbody>\n",
              "    <tr>\n",
              "      <th>0</th>\n",
              "      <td>baseline</td>\n",
              "      <td>Logistic Regression</td>\n",
              "      <td>0.8750</td>\n",
              "    </tr>\n",
              "    <tr>\n",
              "      <th>1</th>\n",
              "      <td>model_1</td>\n",
              "      <td>model_1 = NN</td>\n",
              "      <td>0.4375</td>\n",
              "    </tr>\n",
              "    <tr>\n",
              "      <th>2</th>\n",
              "      <td>model_2</td>\n",
              "      <td>= model_1 + Tuned LR</td>\n",
              "      <td>0.8750</td>\n",
              "    </tr>\n",
              "    <tr>\n",
              "      <th>3</th>\n",
              "      <td>model_3</td>\n",
              "      <td>= model_2 + Dropout</td>\n",
              "      <td>0.9375</td>\n",
              "    </tr>\n",
              "    <tr>\n",
              "      <th>4</th>\n",
              "      <td>model_4</td>\n",
              "      <td>= model_3+ Early Stopping</td>\n",
              "      <td>0.9375</td>\n",
              "    </tr>\n",
              "  </tbody>\n",
              "</table>\n",
              "</div>\n",
              "    <div class=\"colab-df-buttons\">\n",
              "\n",
              "  <div class=\"colab-df-container\">\n",
              "    <button class=\"colab-df-convert\" onclick=\"convertToInteractive('df-6eb2427d-71d9-4525-af0a-62006e4e668d')\"\n",
              "            title=\"Convert this dataframe to an interactive table.\"\n",
              "            style=\"display:none;\">\n",
              "\n",
              "  <svg xmlns=\"http://www.w3.org/2000/svg\" height=\"24px\" viewBox=\"0 -960 960 960\">\n",
              "    <path d=\"M120-120v-720h720v720H120Zm60-500h600v-160H180v160Zm220 220h160v-160H400v160Zm0 220h160v-160H400v160ZM180-400h160v-160H180v160Zm440 0h160v-160H620v160ZM180-180h160v-160H180v160Zm440 0h160v-160H620v160Z\"/>\n",
              "  </svg>\n",
              "    </button>\n",
              "\n",
              "  <style>\n",
              "    .colab-df-container {\n",
              "      display:flex;\n",
              "      gap: 12px;\n",
              "    }\n",
              "\n",
              "    .colab-df-convert {\n",
              "      background-color: #E8F0FE;\n",
              "      border: none;\n",
              "      border-radius: 50%;\n",
              "      cursor: pointer;\n",
              "      display: none;\n",
              "      fill: #1967D2;\n",
              "      height: 32px;\n",
              "      padding: 0 0 0 0;\n",
              "      width: 32px;\n",
              "    }\n",
              "\n",
              "    .colab-df-convert:hover {\n",
              "      background-color: #E2EBFA;\n",
              "      box-shadow: 0px 1px 2px rgba(60, 64, 67, 0.3), 0px 1px 3px 1px rgba(60, 64, 67, 0.15);\n",
              "      fill: #174EA6;\n",
              "    }\n",
              "\n",
              "    .colab-df-buttons div {\n",
              "      margin-bottom: 4px;\n",
              "    }\n",
              "\n",
              "    [theme=dark] .colab-df-convert {\n",
              "      background-color: #3B4455;\n",
              "      fill: #D2E3FC;\n",
              "    }\n",
              "\n",
              "    [theme=dark] .colab-df-convert:hover {\n",
              "      background-color: #434B5C;\n",
              "      box-shadow: 0px 1px 3px 1px rgba(0, 0, 0, 0.15);\n",
              "      filter: drop-shadow(0px 1px 2px rgba(0, 0, 0, 0.3));\n",
              "      fill: #FFFFFF;\n",
              "    }\n",
              "  </style>\n",
              "\n",
              "    <script>\n",
              "      const buttonEl =\n",
              "        document.querySelector('#df-6eb2427d-71d9-4525-af0a-62006e4e668d button.colab-df-convert');\n",
              "      buttonEl.style.display =\n",
              "        google.colab.kernel.accessAllowed ? 'block' : 'none';\n",
              "\n",
              "      async function convertToInteractive(key) {\n",
              "        const element = document.querySelector('#df-6eb2427d-71d9-4525-af0a-62006e4e668d');\n",
              "        const dataTable =\n",
              "          await google.colab.kernel.invokeFunction('convertToInteractive',\n",
              "                                                    [key], {});\n",
              "        if (!dataTable) return;\n",
              "\n",
              "        const docLinkHtml = 'Like what you see? Visit the ' +\n",
              "          '<a target=\"_blank\" href=https://colab.research.google.com/notebooks/data_table.ipynb>data table notebook</a>'\n",
              "          + ' to learn more about interactive tables.';\n",
              "        element.innerHTML = '';\n",
              "        dataTable['output_type'] = 'display_data';\n",
              "        await google.colab.output.renderOutput(dataTable, element);\n",
              "        const docLink = document.createElement('div');\n",
              "        docLink.innerHTML = docLinkHtml;\n",
              "        element.appendChild(docLink);\n",
              "      }\n",
              "    </script>\n",
              "  </div>\n",
              "\n",
              "\n",
              "    <div id=\"df-532a45ee-73ca-4dc3-9b9f-e906f0ddcab1\">\n",
              "      <button class=\"colab-df-quickchart\" onclick=\"quickchart('df-532a45ee-73ca-4dc3-9b9f-e906f0ddcab1')\"\n",
              "                title=\"Suggest charts\"\n",
              "                style=\"display:none;\">\n",
              "\n",
              "<svg xmlns=\"http://www.w3.org/2000/svg\" height=\"24px\"viewBox=\"0 0 24 24\"\n",
              "     width=\"24px\">\n",
              "    <g>\n",
              "        <path d=\"M19 3H5c-1.1 0-2 .9-2 2v14c0 1.1.9 2 2 2h14c1.1 0 2-.9 2-2V5c0-1.1-.9-2-2-2zM9 17H7v-7h2v7zm4 0h-2V7h2v10zm4 0h-2v-4h2v4z\"/>\n",
              "    </g>\n",
              "</svg>\n",
              "      </button>\n",
              "\n",
              "<style>\n",
              "  .colab-df-quickchart {\n",
              "      --bg-color: #E8F0FE;\n",
              "      --fill-color: #1967D2;\n",
              "      --hover-bg-color: #E2EBFA;\n",
              "      --hover-fill-color: #174EA6;\n",
              "      --disabled-fill-color: #AAA;\n",
              "      --disabled-bg-color: #DDD;\n",
              "  }\n",
              "\n",
              "  [theme=dark] .colab-df-quickchart {\n",
              "      --bg-color: #3B4455;\n",
              "      --fill-color: #D2E3FC;\n",
              "      --hover-bg-color: #434B5C;\n",
              "      --hover-fill-color: #FFFFFF;\n",
              "      --disabled-bg-color: #3B4455;\n",
              "      --disabled-fill-color: #666;\n",
              "  }\n",
              "\n",
              "  .colab-df-quickchart {\n",
              "    background-color: var(--bg-color);\n",
              "    border: none;\n",
              "    border-radius: 50%;\n",
              "    cursor: pointer;\n",
              "    display: none;\n",
              "    fill: var(--fill-color);\n",
              "    height: 32px;\n",
              "    padding: 0;\n",
              "    width: 32px;\n",
              "  }\n",
              "\n",
              "  .colab-df-quickchart:hover {\n",
              "    background-color: var(--hover-bg-color);\n",
              "    box-shadow: 0 1px 2px rgba(60, 64, 67, 0.3), 0 1px 3px 1px rgba(60, 64, 67, 0.15);\n",
              "    fill: var(--button-hover-fill-color);\n",
              "  }\n",
              "\n",
              "  .colab-df-quickchart-complete:disabled,\n",
              "  .colab-df-quickchart-complete:disabled:hover {\n",
              "    background-color: var(--disabled-bg-color);\n",
              "    fill: var(--disabled-fill-color);\n",
              "    box-shadow: none;\n",
              "  }\n",
              "\n",
              "  .colab-df-spinner {\n",
              "    border: 2px solid var(--fill-color);\n",
              "    border-color: transparent;\n",
              "    border-bottom-color: var(--fill-color);\n",
              "    animation:\n",
              "      spin 1s steps(1) infinite;\n",
              "  }\n",
              "\n",
              "  @keyframes spin {\n",
              "    0% {\n",
              "      border-color: transparent;\n",
              "      border-bottom-color: var(--fill-color);\n",
              "      border-left-color: var(--fill-color);\n",
              "    }\n",
              "    20% {\n",
              "      border-color: transparent;\n",
              "      border-left-color: var(--fill-color);\n",
              "      border-top-color: var(--fill-color);\n",
              "    }\n",
              "    30% {\n",
              "      border-color: transparent;\n",
              "      border-left-color: var(--fill-color);\n",
              "      border-top-color: var(--fill-color);\n",
              "      border-right-color: var(--fill-color);\n",
              "    }\n",
              "    40% {\n",
              "      border-color: transparent;\n",
              "      border-right-color: var(--fill-color);\n",
              "      border-top-color: var(--fill-color);\n",
              "    }\n",
              "    60% {\n",
              "      border-color: transparent;\n",
              "      border-right-color: var(--fill-color);\n",
              "    }\n",
              "    80% {\n",
              "      border-color: transparent;\n",
              "      border-right-color: var(--fill-color);\n",
              "      border-bottom-color: var(--fill-color);\n",
              "    }\n",
              "    90% {\n",
              "      border-color: transparent;\n",
              "      border-bottom-color: var(--fill-color);\n",
              "    }\n",
              "  }\n",
              "</style>\n",
              "\n",
              "      <script>\n",
              "        async function quickchart(key) {\n",
              "          const quickchartButtonEl =\n",
              "            document.querySelector('#' + key + ' button');\n",
              "          quickchartButtonEl.disabled = true;  // To prevent multiple clicks.\n",
              "          quickchartButtonEl.classList.add('colab-df-spinner');\n",
              "          try {\n",
              "            const charts = await google.colab.kernel.invokeFunction(\n",
              "                'suggestCharts', [key], {});\n",
              "          } catch (error) {\n",
              "            console.error('Error during call to suggestCharts:', error);\n",
              "          }\n",
              "          quickchartButtonEl.classList.remove('colab-df-spinner');\n",
              "          quickchartButtonEl.classList.add('colab-df-quickchart-complete');\n",
              "        }\n",
              "        (() => {\n",
              "          let quickchartButtonEl =\n",
              "            document.querySelector('#df-532a45ee-73ca-4dc3-9b9f-e906f0ddcab1 button');\n",
              "          quickchartButtonEl.style.display =\n",
              "            google.colab.kernel.accessAllowed ? 'block' : 'none';\n",
              "        })();\n",
              "      </script>\n",
              "    </div>\n",
              "\n",
              "  <div id=\"id_b19b541d-9a1a-4e92-ac5d-56fe30236d3f\">\n",
              "    <style>\n",
              "      .colab-df-generate {\n",
              "        background-color: #E8F0FE;\n",
              "        border: none;\n",
              "        border-radius: 50%;\n",
              "        cursor: pointer;\n",
              "        display: none;\n",
              "        fill: #1967D2;\n",
              "        height: 32px;\n",
              "        padding: 0 0 0 0;\n",
              "        width: 32px;\n",
              "      }\n",
              "\n",
              "      .colab-df-generate:hover {\n",
              "        background-color: #E2EBFA;\n",
              "        box-shadow: 0px 1px 2px rgba(60, 64, 67, 0.3), 0px 1px 3px 1px rgba(60, 64, 67, 0.15);\n",
              "        fill: #174EA6;\n",
              "      }\n",
              "\n",
              "      [theme=dark] .colab-df-generate {\n",
              "        background-color: #3B4455;\n",
              "        fill: #D2E3FC;\n",
              "      }\n",
              "\n",
              "      [theme=dark] .colab-df-generate:hover {\n",
              "        background-color: #434B5C;\n",
              "        box-shadow: 0px 1px 3px 1px rgba(0, 0, 0, 0.15);\n",
              "        filter: drop-shadow(0px 1px 2px rgba(0, 0, 0, 0.3));\n",
              "        fill: #FFFFFF;\n",
              "      }\n",
              "    </style>\n",
              "    <button class=\"colab-df-generate\" onclick=\"generateWithVariable('model_comparison')\"\n",
              "            title=\"Generate code using this dataframe.\"\n",
              "            style=\"display:none;\">\n",
              "\n",
              "  <svg xmlns=\"http://www.w3.org/2000/svg\" height=\"24px\"viewBox=\"0 0 24 24\"\n",
              "       width=\"24px\">\n",
              "    <path d=\"M7,19H8.4L18.45,9,17,7.55,7,17.6ZM5,21V16.75L18.45,3.32a2,2,0,0,1,2.83,0l1.4,1.43a1.91,1.91,0,0,1,.58,1.4,1.91,1.91,0,0,1-.58,1.4L9.25,21ZM18.45,9,17,7.55Zm-12,3A5.31,5.31,0,0,0,4.9,8.1,5.31,5.31,0,0,0,1,6.5,5.31,5.31,0,0,0,4.9,4.9,5.31,5.31,0,0,0,6.5,1,5.31,5.31,0,0,0,8.1,4.9,5.31,5.31,0,0,0,12,6.5,5.46,5.46,0,0,0,6.5,12Z\"/>\n",
              "  </svg>\n",
              "    </button>\n",
              "    <script>\n",
              "      (() => {\n",
              "      const buttonEl =\n",
              "        document.querySelector('#id_b19b541d-9a1a-4e92-ac5d-56fe30236d3f button.colab-df-generate');\n",
              "      buttonEl.style.display =\n",
              "        google.colab.kernel.accessAllowed ? 'block' : 'none';\n",
              "\n",
              "      buttonEl.onclick = () => {\n",
              "        google.colab.notebook.generateWithVariable('model_comparison');\n",
              "      }\n",
              "      })();\n",
              "    </script>\n",
              "  </div>\n",
              "\n",
              "    </div>\n",
              "  </div>\n"
            ],
            "application/vnd.google.colaboratory.intrinsic+json": {
              "type": "dataframe",
              "variable_name": "model_comparison",
              "summary": "{\n  \"name\": \"model_comparison\",\n  \"rows\": 5,\n  \"fields\": [\n    {\n      \"column\": \"Model\",\n      \"properties\": {\n        \"dtype\": \"string\",\n        \"num_unique_values\": 5,\n        \"samples\": [\n          \"model_1\",\n          \"model_4\",\n          \"model_2\"\n        ],\n        \"semantic_type\": \"\",\n        \"description\": \"\"\n      }\n    },\n    {\n      \"column\": \"Description\",\n      \"properties\": {\n        \"dtype\": \"string\",\n        \"num_unique_values\": 5,\n        \"samples\": [\n          \"model_1 = NN\",\n          \"= model_3+ Early Stopping\",\n          \" = model_1 + Tuned LR\"\n        ],\n        \"semantic_type\": \"\",\n        \"description\": \"\"\n      }\n    },\n    {\n      \"column\": \"accuracy_val\",\n      \"properties\": {\n        \"dtype\": \"number\",\n        \"std\": 0.21194781197266463,\n        \"min\": 0.4375,\n        \"max\": 0.9375,\n        \"num_unique_values\": 3,\n        \"samples\": [\n          0.875,\n          0.4375,\n          0.9375\n        ],\n        \"semantic_type\": \"\",\n        \"description\": \"\"\n      }\n    }\n  ]\n}"
            }
          },
          "metadata": {},
          "execution_count": 53
        }
      ]
    },
    {
      "cell_type": "markdown",
      "source": [
        "## Conclusion\n",
        "\n",
        "This project demonstrates the potential of using Raman spectroscopy combined with neural networks for a rapid and non-invasive diabetes screening tool. The final model's high accuracy, and particularly its perfect recall for diabetic cases, underscores its potential clinical utility.\n",
        "\n",
        "* **Effective Preprocessing**: Area normalization and standardization were essential, correcting for measurement variations and preventing feature dominance.\n",
        "\n",
        "* **Regularization Boosts Performance**: A baseline logistic regression achieved 87.5% accuracy. While a basic neural network underperformed, adding dropout layers was key, increasing validation accuracy to 93.75% by reducing overfitting.\n",
        "\n",
        "* **High Clinical Potential**: The final model demonstrated strong clinical relevance by achieving a perfect recall of 1.00 for diabetic patients, ensuring no cases were missed in the test set."
      ],
      "metadata": {
        "id": "k5lIaov0KtHa"
      }
    }
  ]
}